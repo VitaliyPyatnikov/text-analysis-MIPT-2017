{
 "cells": [
  {
   "cell_type": "code",
   "execution_count": 64,
   "metadata": {
    "collapsed": true,
    "deletable": true,
    "editable": true
   },
   "outputs": [],
   "source": [
    "%matplotlib inline \n",
    "import pandas as pd\n",
    "import numpy as np\n",
    "import pylab as plt\n",
    "import nltk\n",
    "import re\n",
    "from collections import Counter\n",
    "from nltk.stem import WordNetLemmatizer\n",
    "from nltk.corpus import stopwords\n",
    "from sklearn.decomposition import TruncatedSVD"
   ]
  },
  {
   "cell_type": "markdown",
   "metadata": {
    "deletable": true,
    "editable": true
   },
   "source": [
    "# Обработка писем\n",
    "https://www.kaggle.com/antlarac/d/kaggle/hillary-clinton-emails/hillary-s-emails"
   ]
  },
  {
   "cell_type": "markdown",
   "metadata": {
    "deletable": true,
    "editable": true
   },
   "source": [
    "# Для работы с SQL может пригодиться\n",
    "https://github.com/catherinedevlin/ipython-sql"
   ]
  },
  {
   "cell_type": "code",
   "execution_count": 2,
   "metadata": {
    "collapsed": false,
    "deletable": true,
    "editable": true
   },
   "outputs": [
    {
     "name": "stdout",
     "output_type": "stream",
     "text": [
      "\u001b[31mAliases.csv\u001b[m\u001b[m        \u001b[31mEmails.csv\u001b[m\u001b[m         \u001b[31mdatabase.sqlite\u001b[m\u001b[m\r\n",
      "\u001b[31mEmailReceivers.csv\u001b[m\u001b[m \u001b[31mPersons.csv\u001b[m\u001b[m        \u001b[31mhashes.txt\u001b[m\u001b[m\r\n"
     ]
    }
   ],
   "source": [
    "!ls \"hillary-clinton-emails\""
   ]
  },
  {
   "cell_type": "markdown",
   "metadata": {
    "deletable": true,
    "editable": true
   },
   "source": [
    "Извлекли все данные"
   ]
  },
  {
   "cell_type": "code",
   "execution_count": 3,
   "metadata": {
    "collapsed": false,
    "deletable": true,
    "editable": true
   },
   "outputs": [],
   "source": [
    "emails = pd.read_csv('hillary-clinton-emails/Emails.csv')\n",
    "persons = pd.read_csv('hillary-clinton-emails/Persons.csv')\n",
    "emailReceivers = pd.read_csv('hillary-clinton-emails/EmailReceivers.csv')\n",
    "aliases = pd.read_csv('hillary-clinton-emails/Aliases.csv')"
   ]
  },
  {
   "cell_type": "markdown",
   "metadata": {
    "deletable": true,
    "editable": true
   },
   "source": [
    "## Датасет состоит из 4 файлов, \n",
    "#### В файле Persons находится информация о том, с кем происходило общение отправка/получение сообщений. \n",
    "#### В файле Alias предоставлена информация из файла persons, но обработанная: все слова приведены к нижнему регистру, добавлены персональные id номера, разные написания одного и того же адресата объединены одним id номером, поэтому записей в данном файле больше, чем в файле Persons. \n",
    "#### В файле EmailReceivers предоставлена информация о получателях сообщения в формате персонального id сообщения и id получателя из файла Aliases\n",
    "#### В фвйле Emails предоставлена информация о сообщениях, нас интересует поле RawText, где находится сам текст письма."
   ]
  },
  {
   "cell_type": "markdown",
   "metadata": {
    "deletable": true,
    "editable": true
   },
   "source": [
    "## Работа с текстами писем"
   ]
  },
  {
   "cell_type": "code",
   "execution_count": 4,
   "metadata": {
    "collapsed": false,
    "deletable": true,
    "editable": true
   },
   "outputs": [
    {
     "data": {
      "text/html": [
       "<div>\n",
       "<table border=\"1\" class=\"dataframe\">\n",
       "  <thead>\n",
       "    <tr style=\"text-align: right;\">\n",
       "      <th></th>\n",
       "      <th>Id</th>\n",
       "      <th>DocNumber</th>\n",
       "      <th>MetadataSubject</th>\n",
       "      <th>MetadataTo</th>\n",
       "      <th>MetadataFrom</th>\n",
       "      <th>SenderPersonId</th>\n",
       "      <th>MetadataDateSent</th>\n",
       "      <th>MetadataDateReleased</th>\n",
       "      <th>MetadataPdfLink</th>\n",
       "      <th>MetadataCaseNumber</th>\n",
       "      <th>...</th>\n",
       "      <th>ExtractedTo</th>\n",
       "      <th>ExtractedFrom</th>\n",
       "      <th>ExtractedCc</th>\n",
       "      <th>ExtractedDateSent</th>\n",
       "      <th>ExtractedCaseNumber</th>\n",
       "      <th>ExtractedDocNumber</th>\n",
       "      <th>ExtractedDateReleased</th>\n",
       "      <th>ExtractedReleaseInPartOrFull</th>\n",
       "      <th>ExtractedBodyText</th>\n",
       "      <th>RawText</th>\n",
       "    </tr>\n",
       "  </thead>\n",
       "  <tbody>\n",
       "    <tr>\n",
       "      <th>0</th>\n",
       "      <td>1</td>\n",
       "      <td>C05739545</td>\n",
       "      <td>WOW</td>\n",
       "      <td>H</td>\n",
       "      <td>Sullivan, Jacob J</td>\n",
       "      <td>87.0</td>\n",
       "      <td>2012-09-12T04:00:00+00:00</td>\n",
       "      <td>2015-05-22T04:00:00+00:00</td>\n",
       "      <td>DOCUMENTS/HRC_Email_1_296/HRCH2/DOC_0C05739545...</td>\n",
       "      <td>F-2015-04841</td>\n",
       "      <td>...</td>\n",
       "      <td>NaN</td>\n",
       "      <td>Sullivan, Jacob J &lt;Sullivan11@state.gov&gt;</td>\n",
       "      <td>NaN</td>\n",
       "      <td>Wednesday, September 12, 2012 10:16 AM</td>\n",
       "      <td>F-2015-04841</td>\n",
       "      <td>C05739545</td>\n",
       "      <td>05/13/2015</td>\n",
       "      <td>RELEASE IN FULL</td>\n",
       "      <td>NaN</td>\n",
       "      <td>UNCLASSIFIED\\nU.S. Department of State\\nCase N...</td>\n",
       "    </tr>\n",
       "    <tr>\n",
       "      <th>1</th>\n",
       "      <td>2</td>\n",
       "      <td>C05739546</td>\n",
       "      <td>H: LATEST: HOW SYRIA IS AIDING QADDAFI AND MOR...</td>\n",
       "      <td>H</td>\n",
       "      <td>NaN</td>\n",
       "      <td>NaN</td>\n",
       "      <td>2011-03-03T05:00:00+00:00</td>\n",
       "      <td>2015-05-22T04:00:00+00:00</td>\n",
       "      <td>DOCUMENTS/HRC_Email_1_296/HRCH1/DOC_0C05739546...</td>\n",
       "      <td>F-2015-04841</td>\n",
       "      <td>...</td>\n",
       "      <td>NaN</td>\n",
       "      <td>NaN</td>\n",
       "      <td>NaN</td>\n",
       "      <td>NaN</td>\n",
       "      <td>F-2015-04841</td>\n",
       "      <td>C05739546</td>\n",
       "      <td>05/13/2015</td>\n",
       "      <td>RELEASE IN PART</td>\n",
       "      <td>B6\\nThursday, March 3, 2011 9:45 PM\\nH: Latest...</td>\n",
       "      <td>UNCLASSIFIED\\nU.S. Department of State\\nCase N...</td>\n",
       "    </tr>\n",
       "    <tr>\n",
       "      <th>2</th>\n",
       "      <td>3</td>\n",
       "      <td>C05739547</td>\n",
       "      <td>CHRIS STEVENS</td>\n",
       "      <td>;H</td>\n",
       "      <td>Mills, Cheryl D</td>\n",
       "      <td>32.0</td>\n",
       "      <td>2012-09-12T04:00:00+00:00</td>\n",
       "      <td>2015-05-22T04:00:00+00:00</td>\n",
       "      <td>DOCUMENTS/HRC_Email_1_296/HRCH2/DOC_0C05739547...</td>\n",
       "      <td>F-2015-04841</td>\n",
       "      <td>...</td>\n",
       "      <td>B6</td>\n",
       "      <td>Mills, Cheryl D &lt;MillsCD@state.gov&gt;</td>\n",
       "      <td>Abedin, Huma</td>\n",
       "      <td>Wednesday, September 12, 2012 11:52 AM</td>\n",
       "      <td>F-2015-04841</td>\n",
       "      <td>C05739547</td>\n",
       "      <td>05/14/2015</td>\n",
       "      <td>RELEASE IN PART</td>\n",
       "      <td>Thx</td>\n",
       "      <td>UNCLASSIFIED\\nU.S. Department of State\\nCase N...</td>\n",
       "    </tr>\n",
       "    <tr>\n",
       "      <th>3</th>\n",
       "      <td>4</td>\n",
       "      <td>C05739550</td>\n",
       "      <td>CAIRO CONDEMNATION - FINAL</td>\n",
       "      <td>H</td>\n",
       "      <td>Mills, Cheryl D</td>\n",
       "      <td>32.0</td>\n",
       "      <td>2012-09-12T04:00:00+00:00</td>\n",
       "      <td>2015-05-22T04:00:00+00:00</td>\n",
       "      <td>DOCUMENTS/HRC_Email_1_296/HRCH2/DOC_0C05739550...</td>\n",
       "      <td>F-2015-04841</td>\n",
       "      <td>...</td>\n",
       "      <td>NaN</td>\n",
       "      <td>Mills, Cheryl D &lt;MillsCD@state.gov&gt;</td>\n",
       "      <td>Mitchell, Andrew B</td>\n",
       "      <td>Wednesday, September 12,2012 12:44 PM</td>\n",
       "      <td>F-2015-04841</td>\n",
       "      <td>C05739550</td>\n",
       "      <td>05/13/2015</td>\n",
       "      <td>RELEASE IN PART</td>\n",
       "      <td>NaN</td>\n",
       "      <td>UNCLASSIFIED\\nU.S. Department of State\\nCase N...</td>\n",
       "    </tr>\n",
       "    <tr>\n",
       "      <th>4</th>\n",
       "      <td>5</td>\n",
       "      <td>C05739554</td>\n",
       "      <td>H: LATEST: HOW SYRIA IS AIDING QADDAFI AND MOR...</td>\n",
       "      <td>Abedin, Huma</td>\n",
       "      <td>H</td>\n",
       "      <td>80.0</td>\n",
       "      <td>2011-03-11T05:00:00+00:00</td>\n",
       "      <td>2015-05-22T04:00:00+00:00</td>\n",
       "      <td>DOCUMENTS/HRC_Email_1_296/HRCH1/DOC_0C05739554...</td>\n",
       "      <td>F-2015-04841</td>\n",
       "      <td>...</td>\n",
       "      <td>NaN</td>\n",
       "      <td>NaN</td>\n",
       "      <td>NaN</td>\n",
       "      <td>NaN</td>\n",
       "      <td>F-2015-04841</td>\n",
       "      <td>C05739554</td>\n",
       "      <td>05/13/2015</td>\n",
       "      <td>RELEASE IN PART</td>\n",
       "      <td>H &lt;hrod17@clintonemail.com&gt;\\nFriday, March 11,...</td>\n",
       "      <td>B6\\nUNCLASSIFIED\\nU.S. Department of State\\nCa...</td>\n",
       "    </tr>\n",
       "  </tbody>\n",
       "</table>\n",
       "<p>5 rows × 22 columns</p>\n",
       "</div>"
      ],
      "text/plain": [
       "   Id  DocNumber                                    MetadataSubject  \\\n",
       "0   1  C05739545                                                WOW   \n",
       "1   2  C05739546  H: LATEST: HOW SYRIA IS AIDING QADDAFI AND MOR...   \n",
       "2   3  C05739547                                      CHRIS STEVENS   \n",
       "3   4  C05739550                         CAIRO CONDEMNATION - FINAL   \n",
       "4   5  C05739554  H: LATEST: HOW SYRIA IS AIDING QADDAFI AND MOR...   \n",
       "\n",
       "     MetadataTo       MetadataFrom  SenderPersonId           MetadataDateSent  \\\n",
       "0             H  Sullivan, Jacob J            87.0  2012-09-12T04:00:00+00:00   \n",
       "1             H                NaN             NaN  2011-03-03T05:00:00+00:00   \n",
       "2            ;H    Mills, Cheryl D            32.0  2012-09-12T04:00:00+00:00   \n",
       "3             H    Mills, Cheryl D            32.0  2012-09-12T04:00:00+00:00   \n",
       "4  Abedin, Huma                  H            80.0  2011-03-11T05:00:00+00:00   \n",
       "\n",
       "        MetadataDateReleased  \\\n",
       "0  2015-05-22T04:00:00+00:00   \n",
       "1  2015-05-22T04:00:00+00:00   \n",
       "2  2015-05-22T04:00:00+00:00   \n",
       "3  2015-05-22T04:00:00+00:00   \n",
       "4  2015-05-22T04:00:00+00:00   \n",
       "\n",
       "                                     MetadataPdfLink MetadataCaseNumber  \\\n",
       "0  DOCUMENTS/HRC_Email_1_296/HRCH2/DOC_0C05739545...       F-2015-04841   \n",
       "1  DOCUMENTS/HRC_Email_1_296/HRCH1/DOC_0C05739546...       F-2015-04841   \n",
       "2  DOCUMENTS/HRC_Email_1_296/HRCH2/DOC_0C05739547...       F-2015-04841   \n",
       "3  DOCUMENTS/HRC_Email_1_296/HRCH2/DOC_0C05739550...       F-2015-04841   \n",
       "4  DOCUMENTS/HRC_Email_1_296/HRCH1/DOC_0C05739554...       F-2015-04841   \n",
       "\n",
       "                         ...                         ExtractedTo  \\\n",
       "0                        ...                                 NaN   \n",
       "1                        ...                                 NaN   \n",
       "2                        ...                                  B6   \n",
       "3                        ...                                 NaN   \n",
       "4                        ...                                 NaN   \n",
       "\n",
       "                              ExtractedFrom         ExtractedCc  \\\n",
       "0  Sullivan, Jacob J <Sullivan11@state.gov>                 NaN   \n",
       "1                                       NaN                 NaN   \n",
       "2       Mills, Cheryl D <MillsCD@state.gov>        Abedin, Huma   \n",
       "3       Mills, Cheryl D <MillsCD@state.gov>  Mitchell, Andrew B   \n",
       "4                                       NaN                 NaN   \n",
       "\n",
       "                        ExtractedDateSent ExtractedCaseNumber  \\\n",
       "0  Wednesday, September 12, 2012 10:16 AM        F-2015-04841   \n",
       "1                                     NaN        F-2015-04841   \n",
       "2  Wednesday, September 12, 2012 11:52 AM        F-2015-04841   \n",
       "3   Wednesday, September 12,2012 12:44 PM        F-2015-04841   \n",
       "4                                     NaN        F-2015-04841   \n",
       "\n",
       "  ExtractedDocNumber ExtractedDateReleased ExtractedReleaseInPartOrFull  \\\n",
       "0          C05739545            05/13/2015              RELEASE IN FULL   \n",
       "1          C05739546            05/13/2015              RELEASE IN PART   \n",
       "2          C05739547            05/14/2015              RELEASE IN PART   \n",
       "3          C05739550            05/13/2015              RELEASE IN PART   \n",
       "4          C05739554            05/13/2015              RELEASE IN PART   \n",
       "\n",
       "                                   ExtractedBodyText  \\\n",
       "0                                                NaN   \n",
       "1  B6\\nThursday, March 3, 2011 9:45 PM\\nH: Latest...   \n",
       "2                                                Thx   \n",
       "3                                                NaN   \n",
       "4  H <hrod17@clintonemail.com>\\nFriday, March 11,...   \n",
       "\n",
       "                                             RawText  \n",
       "0  UNCLASSIFIED\\nU.S. Department of State\\nCase N...  \n",
       "1  UNCLASSIFIED\\nU.S. Department of State\\nCase N...  \n",
       "2  UNCLASSIFIED\\nU.S. Department of State\\nCase N...  \n",
       "3  UNCLASSIFIED\\nU.S. Department of State\\nCase N...  \n",
       "4  B6\\nUNCLASSIFIED\\nU.S. Department of State\\nCa...  \n",
       "\n",
       "[5 rows x 22 columns]"
      ]
     },
     "execution_count": 4,
     "metadata": {},
     "output_type": "execute_result"
    }
   ],
   "source": [
    "emails.head()"
   ]
  },
  {
   "cell_type": "markdown",
   "metadata": {
    "deletable": true,
    "editable": true
   },
   "source": [
    "Нас интересует столбец RawText, который содержит тексты писем."
   ]
  },
  {
   "cell_type": "code",
   "execution_count": 5,
   "metadata": {
    "collapsed": false,
    "deletable": true,
    "editable": true
   },
   "outputs": [
    {
     "data": {
      "text/plain": [
       "\"B6\\nUNCLASSIFIED\\nU.S. Department of State\\nCase No. F-2015-04841\\nDoc No. C05739559\\nDate: 05/13/2015\\nSTATE DEPT. - PRODUCED TO HOUSE SELECT BENGHAZI COMM.\\nSUBJECT TO AGREEMENT ON SENSITIVE INFORMATION & REDACTIONS. NO FOIA WAIVER.\\nRELEASE IN\\nPART B6\\nFrom:\\nSent\\nTo:\\nSubject\\nPis print.\\n-•-...-^\\nH < hrod17@clintonernailcom>\\nWednesday, September 12, 2012 2:11 PM\\n°Russorv@state.gov'\\nFw: Meet The Right-Wing Extremist Behind Anti-fvluslim Film That Sparked Deadly Riots\\nFrom [meat)\\nSent: Wednesday, September 12, 2012 01:00 PM\\nTo: 11\\nSubject: Meet The Right Wing Extremist Behind Anti-Muslim Film That Sparked Deadly Riots\\nhtte/maxbiumenthal.com12012/09/meet-the-right-wing-extremist-behind-anti-musiim-tihn-that-sparked-\\ndeadly-riots/\\nSent from my Verizon Wireless 4G LTE DROID\\nUNCLASSIFIED\\nU.S. Department of State\\nCase No. F-2015-04841\\nDoc No. C05739559\\nDate: 05/13/2015\\nSTATE DEPT. - PRODUCED TO HOUSE SELECT BENGHAZI COMM.\\nSUBJECT TO AGREEMENT ON SENSITIVE INFORMATION & REDACTIONS. NO FOIA WAIVER. STATE-5CB0045251\\n\\x0c\""
      ]
     },
     "execution_count": 5,
     "metadata": {},
     "output_type": "execute_result"
    }
   ],
   "source": [
    "emails.RawText[5]"
   ]
  },
  {
   "cell_type": "markdown",
   "metadata": {
    "deletable": true,
    "editable": true
   },
   "source": [
    "Разобьем тексты по слову UNCLASSIFIED, очень похоже, что оно разбивает письма между собой или их части."
   ]
  },
  {
   "cell_type": "code",
   "execution_count": 6,
   "metadata": {
    "collapsed": false,
    "deletable": true,
    "editable": true
   },
   "outputs": [],
   "source": [
    "x = emails.RawText[1].split(\"UNCLASSIFIED\")"
   ]
  },
  {
   "cell_type": "markdown",
   "metadata": {
    "deletable": true,
    "editable": true
   },
   "source": [
    "Посмотрим на длины отрывков, я считаю, что представленный ниже отрывок считается техническим и его не надо учитывать в нашей выборке, поэтому минимальную длину отрывка для обработки далее задам в 300 символов."
   ]
  },
  {
   "cell_type": "code",
   "execution_count": 7,
   "metadata": {
    "collapsed": false,
    "deletable": true,
    "editable": true
   },
   "outputs": [
    {
     "name": "stdout",
     "output_type": "stream",
     "text": [
      "0\n",
      "1867\n",
      "231\n",
      "2438\n",
      "231\n",
      "3045\n",
      "231\n",
      "\n",
      "U.S. Department of State\n",
      "Case No. F-2015-04841\n",
      "Doc No. C05739546\n",
      "Date: 05/13/2015\n",
      "STATE DEPT. - PRODUCED TO HOUSE SELECT BENGHAZI COMM.\n",
      "SUBJECT TO AGREEMENT ON SENSITIVE INFORMATION & REDACTIONS. NO FOIA WAIVER. STATE-SCB0045000\n",
      "\f",
      "\n"
     ]
    }
   ],
   "source": [
    "for i in x:\n",
    "    print(len(i))\n",
    "print(x[2])"
   ]
  },
  {
   "cell_type": "code",
   "execution_count": 8,
   "metadata": {
    "collapsed": false,
    "deletable": true,
    "editable": true
   },
   "outputs": [
    {
     "data": {
      "text/plain": [
       "'\\nU.S. Department of State\\nCase No. F-2015-04841\\nDoc No. C05739546\\nDate: 05/13/2015\\nSTATE DEPT. - PRODUCED TO HOUSE SELECT BENGHAZI COMM.\\nSUBJECT TO AGREEMENT ON SENSITIVE INFORMATION & REDACTIONS. NO FOIA WAIVER.\\nRELEASE IN\\nPART B6\\nFrom:\\nSent:\\nTo:\\nSubject:\\nAttachments:\\nB6\\nThursday, March 3, 2011 9:45 PM\\nH: Latest How Syria is aiding Qaddafi and more... Sid\\nhrc memo syria aiding libya 030311.docx; hrc memo syria aiding libya 030311.docx\\nCONFIDENTIAL\\nMarch 3, 2011\\nFor: Hillary\\nFrom: Sid\\nRe: Syria aiding Qaddafi\\nThis memo has two parts. Part one is the report that Syria is providing air support for Qaddafi. Part two is a note\\nto Cody from Lord David Owen, former UK foreign secretary on his views of an increasingly complex crisis. It\\nseems that the situation is developing into a protracted civil war with various nations backing opposing sides\\nwith unforeseen consequences. Under these circumstances the crucial challenge is to deprive Qaddafi of his\\nstrategic depth—his support both financial and military.\\nI. Report\\nDuring the afternoon of March 3, advisers to Muammar Qaddafi stated privately that the Libyan\\nLeader has decided that civil war is inevitable, pitting troops and mercenary troops loyal to him\\nagainst the rebel forces gathering around Benghazi. Qaddafi is convinced that these rebels are\\nbeing supported by the United States, Western Europe and Israel. On March 2 Qaddafi told his\\nson Saif al-Islam that he believes the intelligence services of the United States, Great Britain,\\nEgypt, and France have deployed paramilitary officers to Benghazi to assist in organizing,\\ntraining, and equipping opposition forces. Qaddafi is convinced that the National Libyan Council\\n(NLC), and its leader, former Minister of Justice Mustafa Mohamed Abdel Galil have been\\nchosen by the foreign powers to replace him. On March 1 advisors to Qaddafi stated that\\n'"
      ]
     },
     "execution_count": 8,
     "metadata": {},
     "output_type": "execute_result"
    }
   ],
   "source": [
    "x[1]"
   ]
  },
  {
   "cell_type": "markdown",
   "metadata": {
    "deletable": true,
    "editable": true
   },
   "source": [
    "## Предобработка текстов:\n",
    "\n",
    "- Удалить слова, которые имеют отношение к техническим аспектам письма.\n",
    "- удалить стоп-слова\n",
    "- сделать лематизацию\n",
    "- удалить разного рода символы\n",
    "- разделить письма на тексты по слову UNCLASSIFIED\n",
    "- отбросить тексты длиной меньше 250 символов\n",
    "- сделать из всех текстов один большой набор и с ним уже работать"
   ]
  },
  {
   "cell_type": "markdown",
   "metadata": {},
   "source": [
    "Добвил стоп-слова после нескольких прогонов на полном датасете и убрал из выборки слова меньше 3 символов\n"
   ]
  },
  {
   "cell_type": "code",
   "execution_count": 263,
   "metadata": {
    "collapsed": false
   },
   "outputs": [],
   "source": [
    "my_stop_words = ['original', 'message', 'release', 'part','united', 'state', 'don', 't', 'it', 'a', 's', 'http', 'www', 'i','m']"
   ]
  },
  {
   "cell_type": "code",
   "execution_count": 264,
   "metadata": {
    "collapsed": true,
    "deletable": true,
    "editable": true
   },
   "outputs": [],
   "source": [
    "def clean_text(text):\n",
    "    stop_words = stopwords.words(\"english\")\n",
    "    stop_words.extend(my_stop_words)\n",
    "    lemmatizer = WordNetLemmatizer()\n",
    "\n",
    "    text = text.replace(\"\\n\", \" \")\n",
    "    text = text.strip()\n",
    "    text = (lemmatizer.lemmatize(word) for word in text.split())\n",
    "    text = [word for word in text if not (word in stop_words)]\n",
    "\n",
    "    return \" \".join(word for word in text)"
   ]
  },
  {
   "cell_type": "code",
   "execution_count": 265,
   "metadata": {
    "collapsed": false,
    "deletable": true,
    "editable": true
   },
   "outputs": [],
   "source": [
    "def replase_garbage(row):\n",
    "    parse_dateMDET = r'\\w+,\\s\\w+\\s\\d*,\\s\\d{4}\\s\\d:\\d{2}\\s\\w+'\n",
    "    parse_doc = r'\\d*.docx'\n",
    "    parse_USD = r'U.S. \\w+ \\w+ \\w+'\n",
    "    parseCaseNO = r'Case No. \\w-\\d{4}-\\d{5}'\n",
    "    parseDate = r'Date: \\d{2}/\\d{2}/\\d{2}|\\w+\\s\\d*,\\s\\d{4}'\n",
    "    parseSys = r'From:*|Sent:*|To:*|Subject:*|Attachments:*|Re:*|RE:|For:*|Cc:*|Fax:|Tel:|Fw:|FW:'\n",
    "    parseDoc_NO = r'Doc No.*|SUBJECT TO AGREEMENT ON SENSITIVE INFORMATION & REDACTIONS. NO FOIA WAIVER.|SUBJECT TO AGEMENT ON SENSITIVE INFORMATION & DACTIONS. NO FOIA WAIVER.'\n",
    "    parseDep = r'STATE DEPT.*'\n",
    "    parseNum = r'\\d*'\n",
    "    parseStrDep = r'\\w.\\w.\\s\\w+\\s\\w+\\s\\w+\\s\\w+\\s\\w+.*\\s\\w-\\d{4}-\\d{5}\\s\\w+\\s\\w+.\\s\\w\\d{8}\\s\\w+:\\s\\d{2}/\\d{2}/\\d{4}'\n",
    "    parseEmail = r'<\\w+@\\w+.\\w+>|\\b\\w+@\\w+\\b'\n",
    "    parseLetters = r'\\s\\b.\\s'\n",
    "    \n",
    "    rw = re.sub(parse_dateMDET, \"\", row)\n",
    "    rw = re.sub(parseStrDep, \"\", rw)\n",
    "    rw = re.sub(parse_doc, \"\", rw)\n",
    "    rw = re.sub(parse_USD, \"\", rw)\n",
    "    rw = re.sub(parseEmail, \"\", rw)\n",
    "    rw = re.sub(parseDate, \"\", rw)\n",
    "    rw = re.sub(parseSys, \"\", rw)\n",
    "    rw = re.sub(parseDoc_NO, \"\", rw)\n",
    "    rw = re.sub(parseDep, \"\", rw)\n",
    "    rw = re.sub(parseNum, \"\", rw)\n",
    "    rw = re.sub(parseCaseNO, \"\", rw)\n",
    "    rw = re.sub(parseLetters, \"\", rw)\n",
    "    \n",
    "    rw = rw.replace(\"AM\", \" \")\n",
    "    rw = rw.replace(\"PM\", \" \")\n",
    "    rw = rw.replace(\",\", \" \")\n",
    "    rw = rw.replace(\".\", \" \")\n",
    "    rw = rw.replace(\"-\", \" \")\n",
    "    rw = rw.replace(\":\", \" \")\n",
    "    rw = rw.replace(\"/\", \" \")\n",
    "    rw = rw.replace(\"\\\\\", \" \")\n",
    "    rw = rw.replace(\"<\", \" \")\n",
    "    rw = rw.replace(\">\", \" \")\n",
    "    rw = rw.replace(\"(\", \" \")\n",
    "    rw = rw.replace(\")\", \" \")\n",
    "    rw = rw.replace(\"•\", \" \")\n",
    "    rw = rw.replace(\"^\", \" \")\n",
    "    rw = rw.replace(\"°\", \" \")\n",
    "    rw = rw.replace(\"!\", \" \")\n",
    "    rw = rw.replace(\"?\", \" \")\n",
    "    rw = rw.replace(\"[\", \" \")\n",
    "    rw = rw.replace(\"]\", \" \")\n",
    "    rw = rw.replace(\"don't\", \" \")\n",
    "    rw = rw.replace(\"it's\", \" \")\n",
    "    \n",
    "    rw = re.sub(r\" +\", \" \", rw)\n",
    "    rw = rw.lower()\n",
    "    return clean_text(rw)"
   ]
  },
  {
   "cell_type": "markdown",
   "metadata": {
    "deletable": true,
    "editable": true
   },
   "source": [
    "2) Разделяем сообщения по слову UNCLASSIFIED"
   ]
  },
  {
   "cell_type": "code",
   "execution_count": 288,
   "metadata": {
    "collapsed": true,
    "deletable": true,
    "editable": true
   },
   "outputs": [],
   "source": [
    "sa = []\n",
    "for i in range(1000):\n",
    "    sa.append(emails.RawText[i].split(\"UNCLASSIFIED\"))"
   ]
  },
  {
   "cell_type": "markdown",
   "metadata": {
    "deletable": true,
    "editable": true
   },
   "source": [
    "3) Отбрасываем все отрывки короче 250 символов и складываем все в один список"
   ]
  },
  {
   "cell_type": "code",
   "execution_count": 289,
   "metadata": {
    "collapsed": false,
    "deletable": true,
    "editable": true
   },
   "outputs": [],
   "source": [
    "emTest = []\n",
    "for i in range(1000):\n",
    "    for fragment in sa[i]:\n",
    "        if len(fragment) > 250:\n",
    "            emTest.append(fragment)"
   ]
  },
  {
   "cell_type": "code",
   "execution_count": 290,
   "metadata": {
    "collapsed": false,
    "deletable": true,
    "editable": true
   },
   "outputs": [],
   "source": [
    "words_for_bigr = \" \".join(replase_garbage(fragment) for fragment in emTest).strip().split()\n",
    "msg_temp = (replase_garbage(fragment) for fragment in emTest if fragment)\n",
    "messages = np.array([message for message in msg_temp if len(message.split()) > 3])"
   ]
  },
  {
   "cell_type": "code",
   "execution_count": 291,
   "metadata": {
    "collapsed": false,
    "deletable": true,
    "editable": true
   },
   "outputs": [
    {
     "data": {
      "text/plain": [
       "(1708,)"
      ]
     },
     "execution_count": 291,
     "metadata": {},
     "output_type": "execute_result"
    }
   ],
   "source": [
    "messages.shape"
   ]
  },
  {
   "cell_type": "markdown",
   "metadata": {
    "deletable": true,
    "editable": true
   },
   "source": [
    "Найдем наиболее часто встречающиеся биграммы в датасете"
   ]
  },
  {
   "cell_type": "code",
   "execution_count": 292,
   "metadata": {
    "collapsed": false,
    "deletable": true,
    "editable": true
   },
   "outputs": [
    {
     "name": "stdout",
     "output_type": "stream",
     "text": [
      "[(('mill', 'cheryl'), 520), (('el', 'keib'), 400), (('sullivan', 'jacob'), 369), (('abedin', 'huma'), 337), (('secretary', 'clinton'), 303), (('prime', 'minister'), 241), (('i', 'm'), 237), (('sensitive', 'source'), 229), (('source', 'comment'), 218), (('full', 'gov'), 185)]\n"
     ]
    }
   ],
   "source": [
    "from itertools import islice, zip_longest\n",
    "words = re.findall(\"\\w+\", str(words_for_bigr))\n",
    "print(Counter(zip(words, islice(words, 1, None))).most_common(10))"
   ]
  },
  {
   "cell_type": "markdown",
   "metadata": {
    "deletable": true,
    "editable": true
   },
   "source": [
    "Выделим коллокации из двух слов по PMI с помощью nltk"
   ]
  },
  {
   "cell_type": "code",
   "execution_count": 293,
   "metadata": {
    "collapsed": true,
    "deletable": true,
    "editable": true
   },
   "outputs": [],
   "source": [
    "from nltk.collocations import *\n",
    "bigram_measures = nltk.collocations.BigramAssocMeasures()\n",
    "finder = BigramCollocationFinder.from_words(words_for_bigr)"
   ]
  },
  {
   "cell_type": "code",
   "execution_count": 294,
   "metadata": {
    "collapsed": false,
    "deletable": true,
    "editable": true
   },
   "outputs": [
    {
     "data": {
      "text/plain": [
       "[('\"actionable', 'intelligence\"'),\n",
       " ('\"advice', 'consent\"'),\n",
       " ('\"almost', 'unthinkable'),\n",
       " ('\"brand\"', 'intoreality'),\n",
       " ('\"build', 'brick'),\n",
       " ('\"bust', 'up\"'),\n",
       " ('\"buy', 'china\"'),\n",
       " ('\"call', 'out\"'),\n",
       " ('\"cheryl', 'mills\"'),\n",
       " ('\"chi', 'comms\"')]"
      ]
     },
     "execution_count": 294,
     "metadata": {},
     "output_type": "execute_result"
    }
   ],
   "source": [
    "finder.nbest(bigram_measures.pmi, 10)"
   ]
  },
  {
   "cell_type": "markdown",
   "metadata": {
    "deletable": true,
    "editable": true
   },
   "source": [
    "## Попробуем кластеризовать"
   ]
  },
  {
   "cell_type": "code",
   "execution_count": 295,
   "metadata": {
    "collapsed": true,
    "deletable": true,
    "editable": true
   },
   "outputs": [],
   "source": [
    "from sklearn.feature_extraction.text import CountVectorizer, TfidfVectorizer\n",
    "\n",
    "vectorizer = TfidfVectorizer(max_df=500, min_df=10)\n",
    "matrix = vectorizer.fit_transform(messages).toarray()"
   ]
  },
  {
   "cell_type": "code",
   "execution_count": 296,
   "metadata": {
    "collapsed": false,
    "deletable": true,
    "editable": true
   },
   "outputs": [
    {
     "name": "stdout",
     "output_type": "stream",
     "text": [
      "(1708, 2796)\n"
     ]
    }
   ],
   "source": [
    "print(matrix.shape)"
   ]
  },
  {
   "cell_type": "markdown",
   "metadata": {},
   "source": [
    "Аггломеративная кластеризация (neighbour joining)"
   ]
  },
  {
   "cell_type": "code",
   "execution_count": 297,
   "metadata": {
    "collapsed": false,
    "deletable": true,
    "editable": true
   },
   "outputs": [],
   "source": [
    "from sklearn.cluster.hierarchical import AgglomerativeClustering\n",
    "\n",
    "model = AgglomerativeClustering(n_clusters=10,affinity='euclidean', linkage='complete')\n",
    "preds = model.fit_predict(matrix)"
   ]
  },
  {
   "cell_type": "code",
   "execution_count": 298,
   "metadata": {
    "collapsed": false,
    "deletable": true,
    "editable": true
   },
   "outputs": [
    {
     "name": "stdout",
     "output_type": "stream",
     "text": [
      "[5, 1, 1, 1, 5, 2, 2, 1, 1, 2, 1, 2, 1, 6, 6, 1, 1, 2, 1, 2, 9, 9, 9, 0, 1, 1, 1, 5, 5, 0, 1, 1, 1, 5, 5, 9, 9, 9, 2, 2, 5, 5, 5, 5, 0, 1, 1, 1, 5, 0, 1, 1, 1, 1, 1, 1, 5, 3, 1, 1, 1, 1, 0, 2, 2, 5, 5, 5, 6, 5, 2, 2, 1, 1, 1, 1, 1, 1, 5, 9, 2, 2, 2, 2, 0, 1, 1, 0, 0, 1, 1, 0, 2, 3, 2, 0, 9, 9, 9, 9, 9, 9, 9, 9, 9, 5, 5, 9, 9, 9, 9, 9, 9, 9, 9, 9, 9, 4, 9, 9, 3, 9, 9, 3, 0, 2, 2, 3, 2, 2, 8, 2, 2, 2, 8, 5, 2, 2, 8, 1, 1, 0, 1, 1, 0, 2, 2, 2, 8, 2, 9, 2, 2, 8, 0, 2, 5, 9, 1, 9, 2, 9, 9, 0, 0, 5, 5, 5, 5, 5, 5, 5, 5, 1, 5, 5, 1, 5, 5, 5, 1, 5, 5, 5, 1, 5, 5, 5, 5, 0, 2, 2, 1, 5, 5, 5, 1, 5, 5, 5, 2, 6, 6, 6, 1, 5, 5, 5, 1, 5, 5, 5, 1, 2, 2, 9, 1, 1, 1, 2, 2, 2, 9, 6, 2, 1, 1, 1, 1, 1, 1, 1, 5, 2, 9, 5, 2, 9, 5, 6, 5, 5, 5, 5, 5, 6, 5, 5, 5, 5, 5, 5, 5, 5, 5, 5, 5, 5, 5, 5, 5, 5, 5, 5, 5, 5, 5, 5, 2, 5, 5, 5, 9, 5, 9, 5, 5, 5, 5, 0, 6, 5, 5, 2, 5, 5, 2, 5, 5, 5, 5, 5, 5, 5, 5, 5, 5, 5, 5, 5, 5, 1, 1, 1, 1, 1, 1, 9, 9, 9, 1, 1, 1, 1, 3, 5, 9, 1, 1, 1, 1, 5, 5, 9, 1, 1, 2, 2, 1, 0, 0, 0, 0, 0, 1, 1, 5, 5, 5, 1, 1, 1, 1, 2, 2, 1, 2, 2, 1, 5, 1, 0, 0, 9, 9, 9, 9, 9, 9, 0, 0, 2, 2, 1, 5, 5, 1, 0, 0, 9, 9, 9, 9, 9, 5, 1, 1, 1, 1, 0, 0, 9, 9, 9, 9, 9, 2, 4, 4, 4, 2, 2, 6, 6, 5, 2, 4, 4, 4, 5, 5, 5, 5, 1, 1, 6, 1, 6, 5, 5, 6, 5, 5, 5, 6, 5, 5, 2, 5, 6, 5, 2, 4, 4, 4, 6, 6, 5, 5, 0, 0, 0, 0, 0, 6, 6, 0, 0, 0, 0, 0, 0, 0, 5, 1, 5, 5, 5, 2, 1, 1, 0, 0, 5, 0, 5, 5, 1, 5, 2, 1, 1, 1, 1, 1, 1, 1, 1, 1, 1, 1, 1, 1, 1, 1, 1, 1, 5, 8, 2, 2, 5, 5, 1, 1, 2, 5, 6, 2, 1, 1, 0, 0, 0, 3, 2, 1, 1, 1, 1, 2, 2, 3, 2, 1, 1, 1, 1, 2, 1, 1, 2, 5, 1, 5, 2, 2, 1, 1, 5, 5, 3, 9, 0, 1, 1, 5, 9, 9, 9, 9, 9, 9, 2, 5, 1, 1, 5, 1, 1, 1, 0, 9, 9, 9, 9, 9, 9, 9, 9, 9, 5, 5, 9, 9, 9, 9, 9, 9, 9, 9, 9, 9, 4, 9, 9, 5, 1, 1, 2, 2, 2, 6, 0, 0, 2, 2, 2, 5, 2, 2, 2, 0, 2, 2, 5, 2, 2, 0, 1, 1, 1, 1, 5, 2, 2, 2, 2, 2, 2, 1, 1, 6, 6, 2, 2, 0, 2, 5, 5, 2, 1, 3, 1, 1, 1, 5, 0, 5, 5, 2, 2, 2, 9, 9, 9, 9, 9, 0, 0, 0, 9, 1, 5, 1, 5, 2, 0, 0, 1, 1, 2, 2, 2, 2, 2, 3, 3, 1, 1, 1, 1, 1, 1, 5, 3, 1, 1, 1, 1, 1, 1, 1, 1, 5, 1, 1, 1, 5, 1, 1, 1, 1, 1, 1, 5, 1, 1, 1, 9, 2, 5, 1, 1, 5, 1, 1, 1, 1, 1, 1, 1, 1, 5, 1, 1, 5, 5, 5, 1, 5, 5, 6, 6, 5, 1, 1, 5, 5, 1, 5, 1, 1, 1, 1, 1, 1, 1, 1, 1, 1, 1, 1, 1, 1, 1, 1, 1, 1, 1, 1, 1, 1, 1, 1, 1, 1, 1, 1, 1, 5, 1, 1, 5, 1, 1, 5, 1, 1, 5, 6, 9, 2, 2, 2, 2, 5, 1, 1, 2, 1, 1, 1, 1, 0, 2, 9, 9, 5, 2, 2, 2, 2, 5, 5, 5, 5, 5, 5, 5, 2, 3, 5, 2, 2, 2, 0, 2, 2, 2, 2, 2, 2, 2, 2, 5, 2, 2, 2, 2, 3, 3, 2, 2, 2, 5, 2, 3, 2, 2, 2, 5, 5, 5, 0, 2, 2, 0, 5, 3, 2, 2, 2, 2, 0, 0, 2, 2, 2, 2, 2, 2, 2, 2, 2, 2, 0, 2, 2, 8, 2, 2, 2, 2, 2, 2, 0, 0, 2, 5, 2, 2, 2, 2, 2, 5, 2, 2, 2, 9, 2, 0, 2, 2, 2, 2, 2, 0, 2, 0, 2, 2, 2, 2, 0, 2, 2, 2, 2, 2, 9, 2, 4, 3, 3, 1, 1, 1, 2, 1, 1, 1, 0, 0, 0, 2, 2, 0, 3, 2, 9, 3, 3, 6, 6, 6, 2, 2, 0, 6, 6, 9, 3, 3, 2, 2, 2, 0, 3, 2, 2, 0, 0, 2, 2, 2, 2, 2, 2, 4, 0, 1, 1, 2, 9, 2, 0, 2, 2, 2, 0, 0, 2, 0, 9, 0, 2, 0, 2, 2, 2, 2, 5, 5, 0, 0, 0, 0, 2, 2, 2, 2, 0, 5, 5, 2, 2, 2, 2, 3, 3, 2, 2, 2, 2, 1, 1, 1, 2, 2, 2, 2, 2, 2, 9, 2, 2, 9, 0, 0, 0, 2, 5, 9, 3, 2, 2, 2, 2, 2, 2, 2, 2, 2, 5, 5, 2, 2, 2, 0, 0, 0, 5, 2, 9, 9, 2, 2, 5, 2, 2, 2, 2, 2, 2, 2, 9, 9, 5, 3, 2, 2, 2, 2, 2, 2, 2, 2, 2, 5, 5, 5, 5, 5, 5, 5, 5, 5, 5, 5, 5, 5, 0, 2, 6, 2, 2, 9, 2, 2, 2, 2, 2, 3, 3, 2, 2, 2, 2, 2, 2, 2, 2, 2, 0, 3, 3, 3, 0, 5, 5, 2, 2, 3, 2, 2, 9, 9, 8, 0, 0, 9, 9, 0, 0, 9, 2, 0, 0, 2, 5, 5, 2, 5, 5, 5, 2, 2, 2, 2, 2, 0, 3, 3, 2, 2, 2, 2, 2, 3, 5, 5, 5, 2, 0, 5, 5, 2, 2, 9, 9, 9, 9, 5, 4, 4, 0, 2, 6, 5, 0, 2, 8, 5, 2, 2, 2, 0, 2, 0, 5, 5, 5, 8, 5, 5, 3, 3, 3, 3, 5, 3, 3, 5, 8, 3, 3, 2, 2, 8, 5, 2, 2, 2, 2, 2, 2, 3, 2, 2, 8, 8, 2, 2, 2, 2, 2, 2, 5, 2, 0, 2, 2, 0, 0, 0, 2, 5, 2, 2, 5, 5, 5, 5, 5, 5, 5, 5, 5, 5, 5, 5, 5, 5, 5, 5, 5, 5, 2, 2, 9, 9, 9, 0, 2, 9, 2, 2, 2, 3, 2, 2, 2, 2, 2, 2, 5, 5, 5, 0, 5, 2, 4, 4, 4, 4, 2, 2, 2, 2, 0, 2, 2, 2, 2, 2, 2, 2, 2, 2, 2, 2, 2, 2, 2, 2, 2, 5, 3, 9, 5, 2, 3, 9, 5, 0, 0, 2, 2, 2, 2, 2, 3, 2, 2, 2, 2, 2, 5, 5, 5, 0, 9, 6, 6, 2, 9, 3, 2, 2, 0, 2, 0, 9, 1, 1, 0, 0, 2, 2, 2, 0, 4, 2, 5, 2, 0, 2, 9, 9, 5, 5, 5, 3, 3, 5, 2, 2, 9, 9, 0, 0, 3, 1, 2, 5, 5, 5, 5, 5, 5, 5, 5, 2, 2, 2, 5, 2, 2, 2, 2, 2, 5, 2, 2, 5, 5, 5, 5, 2, 2, 2, 2, 2, 0, 2, 0, 9, 9, 0, 2, 2, 2, 2, 2, 2, 2, 2, 2, 2, 2, 2, 2, 2, 5, 9, 9, 2, 5, 5, 5, 5, 9, 9, 9, 9, 2, 2, 0, 0, 2, 0, 0, 2, 2, 2, 0, 2, 8, 2, 2, 2, 5, 2, 0, 2, 3, 2, 3, 4, 2, 0, 0, 5, 2, 2, 2, 3, 2, 2, 0, 2, 2, 4, 2, 2, 0, 2, 2, 2, 2, 0, 0, 5, 3, 0, 2, 2, 2, 2, 2, 9, 9, 1, 1, 1, 2, 5, 5, 1, 1, 2, 4, 4, 4, 5, 4, 2, 4, 4, 4, 5, 4, 2, 4, 4, 4, 4, 5, 4, 2, 2, 9, 9, 9, 9, 5, 5, 0, 2, 2, 3, 2, 0, 0, 0, 3, 2, 2, 2, 2, 2, 8, 2, 0, 0, 2, 0, 3, 2, 6, 2, 2, 0, 0, 6, 6, 0, 2, 2, 2, 8, 2, 2, 0, 2, 2, 5, 0, 0, 0, 0, 2, 3, 6, 6, 6, 8, 0, 0, 3, 6, 6, 6, 8, 0, 0, 0, 2, 4, 2, 2, 2, 5, 3, 6, 6, 6, 8, 0, 5, 5, 2, 2, 2, 2, 2, 2, 2, 2, 2, 2, 0, 5, 8, 5, 8, 5, 5, 5, 4, 4, 3, 5, 3, 9, 2, 9, 2, 9, 2, 9, 1, 2, 5, 4, 4, 0, 2, 2, 6, 6, 9, 2, 2, 5, 2, 3, 3, 6, 6, 9, 2, 2, 2, 2, 5, 2, 2, 2, 2, 2, 3, 3, 2, 5, 2, 2, 6, 6, 5, 6, 6, 5, 2, 0, 0, 5, 2, 5, 3, 2, 2, 2, 9, 2, 5, 5, 0, 9, 9, 9, 9, 5, 2, 9, 9, 9, 9, 9, 2, 2, 2, 2, 5, 3, 2, 2, 2, 0, 4, 4, 2, 7, 7, 7, 7, 7, 7, 7, 7, 7, 7, 3, 7, 3, 2, 3, 2, 9, 3, 2, 2, 6, 5, 2, 2, 2, 5, 6, 6, 6, 6, 6, 6, 2, 0, 3]\n"
     ]
    }
   ],
   "source": [
    "print(list(preds))"
   ]
  },
  {
   "cell_type": "code",
   "execution_count": 299,
   "metadata": {
    "collapsed": false
   },
   "outputs": [],
   "source": [
    "svd = TruncatedSVD(n_components=1000)\n",
    "features = svd.fit_transform(matrix)"
   ]
  },
  {
   "cell_type": "code",
   "execution_count": 300,
   "metadata": {
    "collapsed": false
   },
   "outputs": [
    {
     "data": {
      "text/plain": [
       "0.98429996425316024"
      ]
     },
     "execution_count": 300,
     "metadata": {},
     "output_type": "execute_result"
    }
   ],
   "source": [
    "svd.explained_variance_ratio_.sum()"
   ]
  },
  {
   "cell_type": "markdown",
   "metadata": {
    "collapsed": true,
    "deletable": true,
    "editable": true
   },
   "source": [
    "KMeans\n",
    "Тестировал на выборке в 1000 сообщений"
   ]
  },
  {
   "cell_type": "code",
   "execution_count": 37,
   "metadata": {
    "collapsed": false,
    "deletable": true,
    "editable": true
   },
   "outputs": [
    {
     "name": "stdout",
     "output_type": "stream",
     "text": [
      "[2 1 1 1 2 2 2 1 1 2 1 2 2 3 3 1 1 2 1 2 3 3 3 2 1]\n",
      "=========================\n",
      "[0 4 4 4 5 5 8 4 4 8 4 8 8 9 9 4 4 8 4 8 9 9 2 8 3]\n",
      "=========================\n",
      "[ 6 10 10 10  0  0  1 10 10  1 10  1  1  1  9 10 10  1 10  1  9  9  9  1 10]\n",
      "=========================\n",
      "[ 4 12 12 12  8  4  4 12 12  5 12 15  5  5  5 12 12  5 12 15  5  5  5  4 17]\n",
      "=========================\n",
      "[11 20 20 20  6  6  0 20 20  0 20  3  0 16 16 20 20  0 20  3 16 16 16  9  5]\n"
     ]
    }
   ],
   "source": [
    "from sklearn.cluster import KMeans\n",
    "\n",
    "model = KMeans(n_clusters=5, random_state=1)\n",
    "preds = model.fit_predict(matrix)\n",
    "print(preds[:25])\n",
    "print(\"=========================\")\n",
    "model = KMeans(n_clusters=10, random_state=1)\n",
    "preds = model.fit_predict(matrix)\n",
    "print(preds[:25])\n",
    "print(\"=========================\")\n",
    "model = KMeans(n_clusters=15, random_state=1)\n",
    "preds = model.fit_predict(matrix)\n",
    "print(preds[:25])\n",
    "print(\"=========================\")\n",
    "model = KMeans(n_clusters=20, random_state=1)\n",
    "preds = model.fit_predict(matrix)\n",
    "print(preds[:25])\n",
    "print(\"=========================\")\n",
    "model = KMeans(n_clusters=25, random_state=1)\n",
    "preds = model.fit_predict(matrix)\n",
    "print(preds[:25])\n"
   ]
  },
  {
   "cell_type": "markdown",
   "metadata": {
    "collapsed": true,
    "deletable": true,
    "editable": true
   },
   "source": [
    "10 кластеров показывают наиболее хороший результат распределения"
   ]
  },
  {
   "cell_type": "code",
   "execution_count": 301,
   "metadata": {
    "collapsed": true
   },
   "outputs": [],
   "source": [
    "Number_of_clusters = 10"
   ]
  },
  {
   "cell_type": "code",
   "execution_count": 302,
   "metadata": {
    "collapsed": false
   },
   "outputs": [
    {
     "name": "stdout",
     "output_type": "stream",
     "text": [
      "[2 6 6 6 0 0 2 6 6 2 6 2 2 1 1 6 6 2 6 2 1 1 8 2 6]\n"
     ]
    }
   ],
   "source": [
    "model = KMeans(n_clusters=Number_of_clusters, random_state=1)\n",
    "preds = model.fit_predict(matrix)\n",
    "print(preds[:25])"
   ]
  },
  {
   "cell_type": "code",
   "execution_count": 303,
   "metadata": {
    "collapsed": false
   },
   "outputs": [],
   "source": [
    "def count_top_N_words_in_cluster(cluster,n):\n",
    "    joined_cluster = \" \".join(cluster)\n",
    "    words = joined_cluster.split()\n",
    "    resulting_count = Counter(words)\n",
    "    top_10 = resulting_count.most_common(10)\n",
    "    top_words = re.findall(r'\\b[a-z]\\w+\\b', str(top_10))\n",
    "    text_top = \" \".join(word for word in top_words)\n",
    "    \n",
    "    return text_top"
   ]
  },
  {
   "cell_type": "code",
   "execution_count": 304,
   "metadata": {
    "collapsed": false,
    "deletable": true,
    "editable": true
   },
   "outputs": [
    {
     "name": "stdout",
     "output_type": "stream",
     "text": [
      "cluster size:  203\n",
      "cheryl mill sullivan jacob gov secretary full\n",
      "\n",
      "cluster size:  185\n",
      "wa said attack libya benghazi security ha american\n",
      "\n",
      "cluster size:  530\n",
      "com gov sullivan pm amazon would wa ha\n",
      "\n",
      "cluster size:  163\n",
      "huma abedin gov sep full tue lona schedule valmoro\n",
      "\n",
      "cluster size:  84\n",
      "el source keib government minister militia al national ntc jalil\n",
      "\n",
      "cluster size:  83\n",
      "call huma abedin full gov talk may fm mon\n",
      "\n",
      "cluster size:  165\n",
      "source libyan magariaf libya government al qaddafi individual new security\n",
      "\n",
      "cluster size:  36\n",
      "hanley saturday monica pdb mailto dan king call today fm\n",
      "\n",
      "cluster size:  243\n",
      "clinton wa secretary question ha people one\n",
      "\n",
      "cluster size:  16\n",
      "fri aug sullivan ines philippe jacob gov aren\n",
      "\n"
     ]
    }
   ],
   "source": [
    "for i in range(Number_of_clusters):\n",
    "    print(\"cluster size: \", messages[preds == i].shape[0])\n",
    "    print(count_top_N_words_in_cluster(messages[preds == i], Number_of_clusters))\n",
    "    print()"
   ]
  },
  {
   "cell_type": "markdown",
   "metadata": {
    "collapsed": true,
    "deletable": true,
    "editable": true
   },
   "source": [
    "## Теперь сделаем все шаги для всей выборки"
   ]
  },
  {
   "cell_type": "code",
   "execution_count": 307,
   "metadata": {
    "collapsed": true
   },
   "outputs": [],
   "source": [
    "sa = []\n",
    "for i in range(len(emails.RawText)):\n",
    "    sa.append(emails.RawText[i].split(\"UNCLASSIFIED\"))"
   ]
  },
  {
   "cell_type": "code",
   "execution_count": 308,
   "metadata": {
    "collapsed": true
   },
   "outputs": [],
   "source": [
    "emTest = []\n",
    "for i in range(len(emails.RawText)):\n",
    "    for fragment in sa[i]:\n",
    "        if len(fragment) > 250:\n",
    "            emTest.append(fragment)"
   ]
  },
  {
   "cell_type": "code",
   "execution_count": 309,
   "metadata": {
    "collapsed": true,
    "deletable": true,
    "editable": true
   },
   "outputs": [],
   "source": [
    "words_for_bigr = \" \".join(replase_garbage(fragment) for fragment in emTest).strip().split()\n",
    "msg_temp = (replase_garbage(fragment) for fragment in emTest if fragment)\n",
    "messages = np.array([message for message in msg_temp if len(message.split()) > 3])"
   ]
  },
  {
   "cell_type": "code",
   "execution_count": 310,
   "metadata": {
    "collapsed": false
   },
   "outputs": [
    {
     "data": {
      "text/plain": [
       "(11577,)"
      ]
     },
     "execution_count": 310,
     "metadata": {},
     "output_type": "execute_result"
    }
   ],
   "source": [
    "messages.shape"
   ]
  },
  {
   "cell_type": "markdown",
   "metadata": {},
   "source": [
    "Биграммы для всего датасета:"
   ]
  },
  {
   "cell_type": "code",
   "execution_count": 311,
   "metadata": {
    "collapsed": false
   },
   "outputs": [
    {
     "name": "stdout",
     "output_type": "stream",
     "text": [
      "[(('mill', 'cheryl'), 4268), (('abedin', 'huma'), 3752), (('sullivan', 'jacob'), 3153), (('i', 'm'), 1401), (('huma', 'abedin'), 1131), (('secretary', 's'), 1101), (('white', 'house'), 1060), (('prime', 'minister'), 1023), (('jiloty', 'lauren'), 921), (('secretary', 'clinton'), 859)]\n"
     ]
    }
   ],
   "source": [
    "from itertools import islice, zip_longest\n",
    "words = re.findall(\"\\w+\", str(words_for_bigr))\n",
    "print(Counter(zip(words, islice(words, 1, None))).most_common(10))"
   ]
  },
  {
   "cell_type": "markdown",
   "metadata": {},
   "source": [
    "коллокации из двух слов по PMI с помощью nltk"
   ]
  },
  {
   "cell_type": "code",
   "execution_count": 312,
   "metadata": {
    "collapsed": true
   },
   "outputs": [],
   "source": [
    "from nltk.collocations import *\n",
    "bigram_measures = nltk.collocations.BigramAssocMeasures()\n",
    "finder = BigramCollocationFinder.from_words(words_for_bigr)"
   ]
  },
  {
   "cell_type": "code",
   "execution_count": 313,
   "metadata": {
    "collapsed": false
   },
   "outputs": [
    {
     "data": {
      "text/plain": [
       "[('\"\"one', 'liners\"'),\n",
       " ('\"\\'\"', 'unregulated'),\n",
       " ('\"\\'hi', 'isf'),\n",
       " ('\"absenting', 'himself\"'),\n",
       " ('\"actionable', 'intelligence\"'),\n",
       " ('\"active', 'robust\"'),\n",
       " ('\"activist', 'justice\"'),\n",
       " ('\"actors\"', '—yet—demand'),\n",
       " ('\"afterfew', 'cheeto'),\n",
       " ('\"ahmed', 'amazed\"')]"
      ]
     },
     "execution_count": 313,
     "metadata": {},
     "output_type": "execute_result"
    }
   ],
   "source": [
    "finder.nbest(bigram_measures.pmi, 10)"
   ]
  },
  {
   "cell_type": "markdown",
   "metadata": {},
   "source": [
    "## Кластеризуем"
   ]
  },
  {
   "cell_type": "code",
   "execution_count": 314,
   "metadata": {
    "collapsed": true
   },
   "outputs": [],
   "source": [
    "from sklearn.feature_extraction.text import CountVectorizer, TfidfVectorizer\n",
    "\n",
    "vectorizer = TfidfVectorizer(max_df=500, min_df=10)\n",
    "matrix = vectorizer.fit_transform(messages).toarray()"
   ]
  },
  {
   "cell_type": "code",
   "execution_count": 315,
   "metadata": {
    "collapsed": false
   },
   "outputs": [
    {
     "name": "stdout",
     "output_type": "stream",
     "text": [
      "(11577, 9722)\n"
     ]
    }
   ],
   "source": [
    "print(matrix.shape)"
   ]
  },
  {
   "cell_type": "markdown",
   "metadata": {},
   "source": [
    "# Аггломеративная кластеризация (neighbour joining)"
   ]
  },
  {
   "cell_type": "code",
   "execution_count": 168,
   "metadata": {
    "collapsed": true
   },
   "outputs": [],
   "source": [
    "from sklearn.cluster.hierarchical import AgglomerativeClustering\n",
    "\n",
    "model = AgglomerativeClustering(n_clusters=10,affinity='euclidean', linkage='complete')\n",
    "preds = model.fit_predict(matrix)"
   ]
  },
  {
   "cell_type": "code",
   "execution_count": 169,
   "metadata": {
    "collapsed": false
   },
   "outputs": [
    {
     "name": "stdout",
     "output_type": "stream",
     "text": [
      "[8, 3, 3, 3, 1, 8, 8, 3, 3, 8, 3, 8, 0, 8, 8, 3, 3, 8, 3, 8, 1, 1, 0, 0, 1, 1, 1, 8, 8, 0, 1, 1, 1, 8, 8, 5, 5, 5, 8, 8, 5, 5, 8, 5, 0, 1, 1, 1, 8, 0, 1, 1, 1, 1, 1, 1, 8, 8, 1, 1, 1, 1, 0, 8, 8, 8, 8, 8, 1, 8, 8, 8, 8, 3, 8, 3, 3, 3, 8, 8, 1, 1, 8, 8, 8, 8, 8, 8, 8, 8, 8, 8, 5, 1, 5, 8, 1, 1, 1, 1, 8, 0, 0, 0, 8, 8, 1, 1, 0, 8, 8, 8, 8, 8, 8, 8, 8, 8, 3, 3, 1, 3, 3, 1, 1, 0, 0, 1, 0, 0, 8, 5, 0, 0, 0, 7, 0, 0, 0, 3, 3, 1, 3, 3, 1, 8, 0, 0, 0, 0, 3, 0, 0, 0, 8, 8, 7, 1, 1, 8, 1, 0, 8, 8, 8, 8, 8, 8, 8, 8, 8, 8, 1, 1, 0, 0, 1, 0, 0, 0, 1, 0, 0, 0, 1, 0, 0, 0, 8, 8, 1, 1, 1, 0, 0, 0, 1, 0, 0, 0, 8, 8, 8, 8, 1, 0, 0, 0, 1, 0, 0, 0, 8, 0, 0, 8, 3, 1, 3, 8, 0, 0, 8, 8, 8, 3, 1, 3, 3, 1, 1, 3, 8, 8, 8, 8, 8, 8, 8, 1, 8, 8, 8, 8, 1, 1, 8, 8, 8, 8, 8, 8, 8, 8, 8, 8, 8, 8, 8, 8, 8, 8, 8, 8, 8, 8, 8, 8, 2, 8, 8, 8, 8, 8, 8, 8, 8, 8, 8, 8, 1, 8, 8, 8, 1, 8, 8, 8, 8, 8, 8, 1, 1, 8, 8, 8, 8, 8, 8, 8, 8, 3, 3, 3, 3, 3, 3, 8, 8, 8, 3, 3, 3, 3, 8, 8, 8, 3, 3, 3, 3, 8, 8, 8, 3, 3, 7, 1, 0, 8, 8, 8, 8, 8, 3, 3, 8, 8, 3, 3, 3, 3, 3, 7, 1, 0, 7, 1, 0, 3, 3, 8, 8, 8, 8, 8, 8, 8, 8, 8, 8, 7, 1, 0, 0, 3, 3, 8, 8, 8, 8, 8, 8, 8, 8, 3, 3, 3, 3, 8, 8, 8, 8, 8, 8, 8, 1, 3, 3, 5, 8, 5, 1, 1, 8, 1, 3, 3, 5, 1, 1, 1, 1, 8, 8, 1, 6, 8, 8, 8, 1, 1, 1, 1, 1, 1, 8, 3, 8, 1, 1, 1, 3, 3, 5, 0, 0, 8, 8, 8, 8, 8, 8, 8, 0, 0, 1, 1, 1, 1, 1, 1, 8, 1, 1, 8, 8, 0, 0, 1, 1, 8, 8, 1, 8, 1, 1, 1, 8, 8, 1, 1, 1, 1, 1, 1, 1, 1, 1, 1, 1, 1, 1, 1, 1, 8, 8, 8, 8, 8, 8, 8, 1, 1, 1, 1, 8, 8, 0, 1, 3, 3, 1, 8, 8, 1, 8, 8, 8, 8, 8, 8, 0, 1, 1, 8, 8, 8, 8, 8, 8, 8, 8, 1, 1, 8, 8, 8, 1, 8, 8, 8, 3, 1, 8, 1, 8, 8, 1, 1, 1, 1, 1, 1, 1, 0, 8, 8, 1, 8, 8, 1, 8, 1, 1, 1, 1, 8, 0, 0, 0, 8, 8, 1, 1, 0, 8, 8, 8, 8, 8, 8, 8, 8, 8, 3, 3, 1, 8, 8, 8, 8, 8, 0, 8, 8, 8, 8, 8, 8, 8, 8, 8, 8, 8, 8, 8, 8, 8, 8, 1, 8, 1, 8, 8, 8, 8, 8, 8, 8, 8, 1, 1, 8, 8, 8, 8, 8, 8, 8, 8, 6, 1, 8, 8, 7, 8, 8, 8, 8, 8, 8, 8, 8, 8, 8, 8, 8, 8, 8, 8, 8, 8, 1, 0, 1, 0, 8, 6, 8, 1, 1, 8, 8, 8, 8, 8, 1, 1, 1, 8, 1, 8, 1, 8, 8, 1, 1, 8, 1, 1, 1, 8, 1, 8, 8, 1, 1, 1, 8, 1, 1, 8, 1, 1, 1, 0, 1, 1, 1, 1, 8, 1, 8, 1, 1, 8, 1, 1, 1, 1, 1, 1, 1, 1, 1, 1, 8, 1, 1, 1, 8, 8, 0, 0, 1, 1, 1, 8, 1, 1, 1, 1, 1, 1, 1, 1, 1, 1, 1, 1, 1, 1, 1, 1, 1, 1, 1, 1, 1, 1, 1, 1, 1, 1, 1, 1, 1, 1, 1, 1, 1, 1, 1, 1, 1, 1, 1, 1, 1, 1, 8, 8, 8, 8, 8, 8, 1, 1, 1, 8, 1, 1, 1, 1, 8, 8, 1, 8, 1, 8, 8, 0, 8, 8, 8, 8, 8, 0, 3, 3, 8, 8, 6, 8, 8, 6, 8, 8, 8, 8, 8, 8, 8, 5, 4, 8, 8, 8, 8, 8, 8, 7, 8, 8, 8, 8, 6, 7, 8, 2, 8, 8, 8, 8, 8, 8, 8, 8, 8, 8, 7, 8, 8, 8, 8, 8, 5, 5, 8, 8, 8, 2, 8, 8, 8, 8, 8, 8, 8, 8, 8, 8, 8, 8, 8, 8, 8, 8, 8, 8, 8, 8, 8, 8, 8, 0, 8, 8, 0, 0, 8, 8, 8, 8, 8, 8, 8, 8, 8, 8, 8, 8, 9, 9, 8, 8, 8, 8, 8, 8, 5, 8, 8, 8, 8, 3, 3, 3, 8, 3, 3, 3, 8, 0, 0, 8, 8, 8, 8, 8, 8, 8, 8, 8, 8, 8, 8, 8, 8, 8, 8, 8, 8, 3, 6, 6, 8, 8, 7, 2, 8, 8, 8, 6, 8, 2, 2, 8, 7, 7, 6, 8, 8, 6, 8, 8, 8, 3, 8, 8, 8, 8, 7, 8, 8, 7, 8, 8, 8, 8, 8, 8, 8, 8, 8, 8, 8, 8, 0, 0, 0, 8, 6, 8, 8, 3, 8, 8, 3, 5, 9, 8, 8, 8, 8, 8, 3, 3, 8, 8, 8, 8, 8, 8, 3, 8, 1, 0, 8, 8, 2, 8, 8, 8, 7, 8, 8, 8, 6, 8, 5, 5, 8, 6, 8, 8, 8, 8, 7, 8, 8, 8, 8, 8, 2, 2, 7, 8, 0, 8, 8, 8, 8, 0, 8, 8, 8, 8, 8, 8, 8, 8, 8, 7, 7, 8, 7, 8, 8, 6, 7, 6, 6, 7, 6, 6, 6, 6, 6, 6, 7, 5, 8, 8, 0, 8, 8, 8, 8, 8, 8, 8, 8, 8, 8, 8, 6, 6, 7, 7, 7, 7, 8, 8, 0, 8, 8, 8, 6, 1, 1, 8, 8, 8, 8, 8, 0, 0, 8, 8, 8, 3, 7, 8, 3, 7, 8, 5, 5, 8, 8, 8, 8, 9, 8, 6, 8, 2, 8, 8, 8, 8, 8, 8, 8, 8, 8, 8, 8, 8, 6, 6, 8, 7, 8, 8, 8, 7, 8, 8, 2, 2, 7, 8, 8, 5, 8, 8, 8, 8, 8, 0, 8, 0, 8, 8, 8, 8, 8, 8, 0, 0, 8, 8, 8, 8, 4, 8, 8, 8, 8, 0, 7, 8, 8, 8, 8, 8, 8, 8, 5, 8, 8, 8, 8, 8, 8, 8, 8, 8, 8, 8, 8, 8, 8, 8, 8, 8, 0, 8, 8, 8, 8, 8, 8, 8, 8, 1, 8, 8, 8, 8, 8, 8, 8, 8, 8, 8, 8, 8, 8, 8, 8, 8, 8, 8, 8, 8, 1, 1, 5, 5, 5, 8, 8, 8, 8, 5, 5, 8, 8, 5, 5, 5, 8, 8, 7, 7, 8, 0, 8, 8, 4, 3, 3, 4, 8, 8, 8, 8, 8, 8, 8, 8, 8, 8, 8, 8, 8, 8, 8, 8, 8, 8, 8, 8, 7, 8, 8, 8, 5, 7, 8, 8, 5, 8, 8, 8, 8, 8, 8, 8, 8, 6, 8, 8, 8, 8, 8, 7, 7, 8, 0, 8, 8, 8, 0, 8, 8, 8, 8, 8, 8, 8, 7, 7, 8, 6, 8, 8, 8, 8, 8, 8, 6, 6, 8, 8, 8, 8, 5, 8, 8, 8, 5, 8, 8, 8, 8, 8, 8, 8, 8, 8, 2, 8, 8, 8, 8, 8, 8, 8, 8, 8, 8, 8, 8, 8, 8, 8, 8, 8, 8, 8, 8, 8, 8, 3, 0, 8, 8, 8, 8, 7, 8, 8, 8, 3, 3, 8, 7, 3, 3, 3, 3, 3, 3, 3, 5, 9, 9, 3, 3, 8, 8, 3, 3, 3, 8, 8, 8, 8, 8, 8, 8, 8, 8, 8, 1, 1, 8, 8, 1, 8, 3, 0, 8, 8, 8, 8, 8, 8, 8, 8, 8, 0, 6, 0, 6, 8, 8, 8, 8, 0, 8, 8, 8, 8, 8, 8, 8, 8, 8, 8, 8, 8, 8, 8, 8, 8, 8, 1, 1, 8, 8, 8, 0, 8, 8, 8, 8, 3, 3, 8, 3, 8, 8, 8, 8, 8, 8, 8, 7, 7, 7, 8, 7, 8, 7, 7, 7, 7, 8, 8, 7, 7, 7, 7, 8, 7, 8, 8, 8, 8, 8, 8, 8, 8, 8, 8, 8, 3, 8, 6, 6, 8, 4, 8, 8, 8, 8, 8, 8, 8, 8, 8, 0, 0, 8, 1, 3, 8, 8, 8, 8, 3, 8, 7, 4, 8, 8, 8, 8, 0, 8, 8, 6, 8, 8, 8, 8, 5, 8, 8, 5, 5, 5, 8, 8, 8, 8, 5, 5, 5, 8, 8, 8, 6, 8, 3, 8, 8, 8, 8, 8, 5, 5, 5, 8, 8, 6, 8, 8, 8, 8, 6, 8, 0, 8, 8, 8, 8, 8, 8, 8, 8, 8, 3, 3, 8, 8, 8, 8, 8, 8, 8, 8, 8, 8, 8, 8, 8, 9, 8, 8, 8, 8, 8, 8, 8, 1, 8, 1, 8, 3, 8, 8, 7, 7, 1, 8, 1, 0, 8, 8, 8, 8, 8, 8, 8, 8, 2, 8, 8, 8, 8, 8, 8, 1, 8, 8, 1, 8, 8, 8, 8, 8, 8, 8, 8, 7, 8, 8, 8, 7, 1, 8, 3, 3, 3, 8, 3, 8, 3, 8, 8, 8, 2, 3, 2, 3, 3, 3, 3, 3, 3, 8, 8, 8, 8, 3, 3, 8, 8, 8, 8, 8, 8, 8, 8, 8, 8, 8, 8, 8, 8, 1, 8, 8, 7, 8, 5, 8, 3, 8, 8, 8, 8, 8, 1, 1, 1, 1, 1, 1, 2, 6, 7, 8, 8, 8, 8, 8, 8, 8, 8, 8, 8, 0, 8, 8, 9, 0, 7, 8, 8, 8, 8, 8, 8, 8, 8, 8, 8, 8, 8, 8, 8, 8, 8, 6, 6, 8, 8, 0, 0, 0, 7, 8, 8, 8, 8, 8, 8, 8, 8, 8, 8, 8, 8, 8, 8, 8, 8, 8, 8, 8, 8, 8, 8, 8, 8, 8, 8, 8, 8, 8, 8, 8, 8, 0, 0, 8, 8, 8, 7, 8, 8, 0, 0, 8, 8, 8, 8, 8, 8, 8, 8, 8, 8, 8, 8, 8, 8, 8, 8, 8, 8, 5, 8, 6, 8, 8, 8, 8, 8, 6, 8, 8, 8, 8, 8, 8, 8, 0, 8, 0, 6, 8, 8, 8, 2, 8, 8, 8, 8, 8, 8, 8, 8, 8, 8, 8, 8, 8, 8, 8, 8, 8, 8, 8, 8, 8, 8, 8, 0, 8, 8, 8, 0, 0, 2, 0, 8, 8, 8, 7, 8, 8, 8, 0, 8, 0, 8, 8, 8, 8, 0, 8, 8, 8, 8, 8, 6, 3, 8, 8, 0, 8, 6, 8, 8, 0, 8, 8, 8, 8, 8, 3, 3, 2, 2, 8, 2, 6, 8, 6, 8, 8, 1, 8, 8, 8, 1, 1, 0, 8, 8, 8, 8, 8, 8, 8, 8, 8, 8, 8, 8, 6, 8, 8, 7, 3, 8, 8, 8, 8, 8, 8, 8, 1, 1, 8, 8, 8, 8, 8, 8, 8, 0, 1, 1, 4, 8, 1, 1, 1, 4, 8, 0, 1, 1, 4, 8, 8, 8, 8, 8, 8, 8, 8, 8, 8, 8, 8, 8, 8, 8, 7, 8, 8, 8, 8, 8, 8, 8, 8, 8, 8, 8, 8, 8, 8, 8, 8, 8, 8, 6, 8, 8, 8, 8, 8, 8, 8, 8, 8, 8, 8, 8, 8, 8, 7, 8, 8, 8, 5, 8, 8, 8, 8, 8, 8, 8, 8, 8, 8, 8, 8, 8, 5, 0, 0, 0, 0, 3, 3, 8, 8, 8, 8, 8, 8, 8, 8, 8, 8, 8, 0, 8, 8, 8, 7, 8, 8, 8, 8, 8, 8, 7, 7, 8, 7, 8, 8, 8, 8, 8, 8, 8, 8, 6, 8, 5, 8, 8, 8, 8, 8, 0, 0, 8, 8, 8, 3, 8, 8, 8, 8, 8, 8, 8, 7, 8, 8, 8, 4, 8, 8, 7, 7, 7, 8, 0, 8, 7, 8, 8, 8, 8, 8, 8, 7, 8, 0, 8, 8, 8, 8, 8, 8, 8, 8, 8, 8, 8, 8, 8, 8, 8, 8, 8, 8, 8, 7, 8, 8, 8, 8, 8, 8, 8, 8, 8, 5, 8, 8, 8, 7, 8, 7, 8, 2, 8, 8, 0, 8, 8, 8, 8, 8, 8, 8, 8, 8, 8, 8, 8, 8, 8, 8, 8, 8, 9, 8, 8, 7, 9, 9, 9, 9, 8, 8, 1, 1, 1, 1, 1, 8, 1, 0, 8, 8, 8, 8, 8, 8, 8, 8, 8, 8, 8, 8, 8, 8, 8, 8, 8, 8, 8, 8, 8, 8, 8, 8, 8, 8, 8, 8, 8, 8, 8, 8, 9, 8, 0, 8, 8, 5, 5, 8, 0, 0, 0, 8, 0, 0, 0, 0, 0, 0, 0, 0, 0, 0, 0, 0, 0, 3, 3, 8, 8, 1, 8, 8, 8, 8, 3, 8, 3, 8, 8, 0, 8, 8, 8, 8, 8, 8, 8, 8, 8, 8, 8, 8, 8, 8, 8, 8, 8, 8, 8, 8, 8, 8, 8, 8, 8, 8, 8, 8, 8, 9, 8, 8, 8, 8, 5, 8, 8, 8, 8, 8, 8, 8, 8, 8, 7, 7, 8, 8, 8, 8, 8, 0, 1, 1, 8, 8, 8, 8, 8, 8, 8, 8, 8, 5, 5, 6, 8, 8, 8, 8, 5, 5, 8, 2, 8, 8, 8, 2, 2, 8, 8, 0, 8, 8, 8, 8, 8, 6, 7, 8, 3, 8, 8, 8, 3, 8, 8, 0, 5, 8, 0, 0, 8, 8, 8, 8, 8, 8, 0, 0, 6, 8, 8, 7, 8, 8, 0, 0, 8, 6, 8, 8, 8, 8, 0, 8, 8, 8, 8, 8, 8, 8, 8, 8, 8, 8, 8, 8, 8, 8, 5, 8, 8, 8, 8, 8, 8, 8, 6, 6, 8, 8, 3, 3, 3, 3, 3, 3, 3, 3, 3, 3, 3, 3, 8, 1, 5, 5, 8, 5, 8, 1, 8, 1, 8, 8, 0, 4, 3, 4, 4, 6, 8, 8, 3, 3, 8, 8, 5, 0, 9, 9, 8, 8, 8, 8, 8, 8, 8, 8, 6, 8, 8, 8, 4, 8, 5, 8, 8, 8, 8, 8, 8, 8, 8, 8, 8, 8, 8, 8, 8, 8, 7, 8, 3, 8, 7, 8, 8, 8, 8, 8, 8, 5, 5, 8, 8, 8, 8, 8, 8, 2, 2, 2, 2, 8, 0, 0, 0, 8, 8, 8, 8, 8, 8, 8, 8, 8, 8, 8, 8, 8, 8, 8, 8, 8, 3, 3, 8, 8, 8, 8, 8, 8, 8, 8, 8, 8, 8, 8, 8, 8, 8, 8, 8, 8, 8, 8, 8, 8, 8, 8, 8, 8, 8, 8, 8, 8, 8, 8, 0, 8, 8, 8, 8, 8, 8, 8, 0, 8, 8, 8, 8, 3, 8, 8, 8, 8, 8, 8, 8, 8, 8, 0, 9, 9, 8, 8, 0, 5, 8, 8, 8, 8, 8, 8, 8, 8, 8, 5, 5, 8, 3, 8, 8, 8, 8, 8, 8, 0, 0, 0, 8, 7, 5, 8, 8, 7, 8, 8, 8, 8, 1, 1, 1, 8, 8, 9, 8, 8, 8, 8, 5, 8, 8, 8, 8, 8, 8, 8, 5, 0, 8, 8, 8, 8, 8, 5, 8, 3, 0, 8, 8, 0, 8, 8, 8, 8, 8, 8, 8, 8, 8, 8, 8, 8, 1, 9, 8, 8, 8, 9, 8, 8, 3, 8, 8, 8, 8, 8, 8, 6, 8, 6, 6, 8, 8, 8, 8, 8, 8, 8, 8, 5, 8, 8, 8, 8, 8, 8, 8, 8, 8, 0, 8, 6, 6, 8, 8, 7, 7, 8, 5, 8, 8, 8, 8, 3, 8, 3, 8, 8, 3, 8, 8, 8, 8, 8, 8, 8, 8, 7, 7, 7, 8, 5, 8, 8, 8, 7, 7, 8, 8, 8, 8, 7, 7, 8, 8, 8, 8, 8, 8, 8, 5, 8, 5, 8, 8, 8, 8, 8, 8, 8, 8, 8, 6, 8, 6, 8, 8, 8, 6, 6, 8, 6, 6, 8, 8, 8, 8, 8, 8, 0, 3, 8, 3, 8, 8, 8, 8, 8, 0, 0, 0, 8, 8, 8, 0, 0, 0, 8, 0, 8, 8, 0, 8, 8, 3, 3, 8, 8, 8, 8, 8, 8, 8, 7, 8, 8, 8, 8, 8, 8, 8, 8, 8, 8, 8, 8, 8, 8, 7, 8, 8, 9, 8, 8, 8, 8, 8, 8, 8, 8, 8, 8, 8, 8, 8, 8, 8, 8, 8, 8, 8, 8, 8, 8, 8, 8, 8, 8, 8, 8, 8, 8, 8, 8, 7, 7, 7, 7, 8, 8, 7, 7, 7, 8, 8, 8, 2, 2, 8, 8, 8, 8, 8, 8, 8, 0, 8, 8, 8, 8, 7, 8, 8, 8, 8, 9, 8, 8, 8, 8, 8, 8, 8, 8, 8, 8, 8, 3, 9, 3, 9, 1, 8, 8, 8, 8, 5, 9, 9, 8, 8, 9, 8, 8, 8, 8, 8, 8, 8, 8, 8, 3, 8, 8, 6, 8, 8, 3, 3, 0, 0, 0, 8, 8, 8, 8, 8, 8, 8, 8, 8, 8, 8, 7, 7, 0, 5, 8, 8, 0, 8, 8, 0, 1, 8, 8, 8, 8, 8, 8, 3, 8, 8, 8, 8, 8, 2, 1, 8, 8, 8, 0, 8, 8, 8, 8, 8, 8, 8, 5, 0, 8, 8, 8, 8, 8, 8, 8, 8, 0, 8, 8, 8, 8, 8, 8, 8, 8, 3, 8, 8, 8, 8, 0, 0, 8, 8, 8, 3, 3, 8, 8, 8, 6, 6, 8, 8, 8, 8, 8, 8, 6, 0, 8, 8, 8, 8, 8, 7, 7, 8, 8, 6, 8, 8, 8, 0, 8, 8, 8, 6, 8, 1, 1, 6, 8, 8, 8, 8, 8, 8, 8, 8, 7, 7, 8, 8, 8, 0, 8, 8, 8, 8, 8, 8, 8, 8, 8, 8, 8, 8, 8, 8, 8, 8, 8, 8, 8, 8, 8, 8, 8, 8, 8, 8, 8, 8, 8, 8, 8, 8, 6, 8, 8, 8, 8, 1, 8, 8, 8, 8, 8, 8, 8, 8, 6, 7, 8, 8, 5, 5, 8, 3, 8, 8, 0, 0, 8, 3, 3, 8, 5, 5, 8, 8, 8, 8, 5, 5, 8, 8, 8, 8, 8, 8, 8, 8, 8, 7, 8, 8, 8, 8, 8, 8, 8, 8, 8, 8, 8, 7, 6, 8, 1, 1, 1, 8, 8, 1, 1, 1, 1, 8, 3, 8, 8, 8, 8, 8, 1, 1, 8, 8, 8, 6, 6, 6, 8, 8, 3, 7, 8, 8, 8, 3, 7, 8, 8, 3, 7, 8, 8, 7, 8, 7, 0, 8, 5, 8, 5, 5, 3, 5, 7, 8, 8, 8, 8, 8, 8, 8, 8, 8, 8, 8, 8, 8, 8, 8, 7, 8, 8, 8, 8, 8, 1, 8, 8, 8, 8, 8, 8, 8, 8, 8, 8, 4, 5, 5, 8, 8, 8, 8, 8, 7, 8, 8, 8, 8, 8, 8, 0, 8, 8, 6, 8, 8, 8, 7, 7, 7, 7, 7, 8, 8, 8, 8, 8, 8, 8, 8, 8, 8, 8, 8, 8, 8, 8, 3, 7, 8, 8, 8, 3, 8, 8, 6, 8, 8, 8, 8, 8, 8, 8, 8, 8, 6, 6, 7, 6, 6, 8, 8, 8, 8, 8, 8, 8, 5, 8, 8, 7, 7, 8, 8, 8, 8, 8, 8, 0, 0, 7, 7, 0, 0, 0, 0, 0, 8, 8, 8, 8, 8, 8, 8, 8, 8, 7, 7, 7, 7, 8, 7, 7, 8, 7, 7, 7, 7, 7, 8, 8, 8, 8, 8, 8, 8, 8, 8, 8, 8, 8, 8, 8, 0, 8, 8, 8, 8, 8, 8, 8, 8, 8, 0, 8, 8, 6, 8, 8, 8, 8, 8, 8, 8, 8, 8, 6, 7, 5, 8, 6, 6, 8, 8, 8, 8, 8, 8, 8, 8, 8, 8, 8, 8, 8, 8, 8, 8, 8, 8, 8, 8, 8, 6, 8, 1, 8, 8, 1, 1, 8, 8, 8, 8, 8, 7, 6, 6, 8, 8, 8, 7, 8, 8, 5, 8, 8, 8, 8, 8, 8, 8, 8, 8, 8, 8, 7, 8, 8, 8, 8, 8, 6, 8, 8, 8, 8, 8, 8, 8, 8, 8, 8, 8, 8, 8, 6, 8, 8, 8, 8, 3, 8, 8, 8, 7, 0, 8, 8, 8, 0, 0, 8, 8, 3, 3, 5, 3, 3, 3, 8, 8, 8, 8, 8, 8, 8, 8, 8, 5, 8, 8, 8, 8, 8, 8, 8, 8, 8, 8, 8, 8, 8, 8, 8, 8, 8, 8, 8, 8, 8, 8, 8, 8, 8, 8, 8, 8, 8, 3, 3, 3, 3, 3, 8, 3, 8, 8, 8, 3, 8, 7, 7, 7, 8, 8, 3, 8, 8, 8, 3, 8, 5, 8, 5, 8, 5, 1, 1, 8, 7, 7, 8, 8, 8, 0, 7, 7, 7, 8, 8, 7, 7, 1, 5, 8, 8, 6, 1, 6, 6, 5, 8, 8, 1, 1, 8, 8, 7, 6, 7, 7, 6, 6, 8, 8, 8, 8, 8, 8, 8, 8, 8, 8, 8, 8, 8, 8, 8, 8, 8, 8, 8, 8, 8, 8, 8, 8, 8, 8, 8, 6, 6, 6, 6, 6, 6, 6, 7, 1, 8, 8, 8, 8, 8, 8, 8, 0, 8, 5, 5, 5, 5, 8, 5, 5, 8, 5, 5, 8, 8, 8, 7, 5, 7, 8, 6, 8, 5, 5, 8, 8, 8, 8, 5, 8, 0, 8, 8, 8, 8, 8, 5, 5, 5, 8, 8, 8, 8, 6, 8, 8, 8, 5, 8, 8, 8, 8, 8, 8, 5, 8, 8, 8, 8, 8, 8, 8, 8, 8, 8, 8, 8, 8, 0, 8, 8, 8, 8, 8, 0, 8, 8, 8, 8, 8, 8, 5, 8, 5, 5, 5, 8, 8, 8, 5, 5, 5, 8, 8, 2, 8, 8, 8, 8, 7, 8, 8, 8, 8, 8, 8, 8, 8, 2, 8, 8, 8, 8, 6, 7, 8, 8, 8, 3, 8, 3, 8, 8, 8, 8, 8, 8, 0, 8, 0, 0, 8, 8, 8, 8, 5, 8, 8, 7, 0, 8, 8, 8, 8, 8, 8, 8, 8, 5, 8, 8, 0, 8, 8, 4, 8, 8, 8, 8, 8, 1, 8, 5, 8, 5, 8, 8, 3, 8, 6, 8, 7, 8, 8, 8, 8, 8, 8, 8, 6, 9, 8, 5, 8, 9, 9, 8, 8, 8, 8, 8, 6, 6, 8, 8, 8, 8, 8, 8, 8, 8, 8, 8, 8, 8, 1, 8, 6, 6, 8, 2, 8, 5, 8, 8, 8, 8, 8, 8, 8, 8, 8, 8, 8, 8, 8, 5, 8, 8, 8, 8, 8, 8, 8, 8, 8, 8, 8, 8, 8, 8, 8, 8, 8, 8, 1, 1, 8, 8, 1, 1, 8, 8, 8, 8, 3, 1, 8, 8, 8, 8, 8, 8, 8, 8, 8, 8, 8, 8, 8, 8, 8, 6, 8, 8, 8, 0, 8, 8, 8, 3, 5, 5, 3, 8, 8, 8, 8, 8, 8, 8, 0, 8, 8, 3, 8, 3, 8, 8, 8, 8, 8, 8, 8, 8, 8, 8, 8, 8, 8, 8, 8, 8, 8, 8, 8, 8, 7, 8, 8, 8, 8, 8, 8, 8, 8, 8, 8, 8, 8, 8, 8, 8, 8, 8, 8, 8, 8, 8, 5, 8, 8, 8, 8, 3, 3, 8, 8, 8, 8, 8, 8, 8, 7, 8, 0, 8, 8, 8, 8, 8, 8, 8, 8, 8, 8, 7, 1, 1, 8, 8, 8, 8, 8, 8, 8, 8, 8, 8, 8, 8, 8, 8, 8, 8, 8, 7, 8, 8, 8, 8, 1, 8, 8, 8, 3, 3, 1, 8, 7, 8, 8, 8, 5, 8, 8, 8, 6, 8, 7, 7, 1, 8, 1, 0, 8, 7, 8, 8, 8, 8, 8, 8, 6, 8, 8, 8, 8, 6, 7, 8, 7, 8, 5, 8, 8, 8, 7, 8, 7, 8, 8, 8, 8, 6, 8, 8, 6, 8, 8, 8, 8, 8, 8, 8, 8, 8, 8, 8, 8, 8, 8, 8, 8, 2, 2, 8, 8, 8, 8, 8, 8, 0, 8, 8, 1, 8, 8, 8, 8, 8, 8, 0, 6, 0, 8, 3, 3, 8, 8, 5, 8, 8, 8, 8, 8, 8, 8, 8, 8, 8, 8, 9, 8, 7, 7, 8, 8, 8, 8, 4, 8, 0, 0, 0, 8, 8, 8, 6, 7, 7, 8, 8, 8, 5, 8, 8, 8, 8, 2, 8, 8, 8, 8, 8, 8, 6, 6, 6, 6, 8, 8, 8, 8, 8, 8, 8, 8, 8, 8, 1, 8, 6, 6, 8, 8, 8, 8, 5, 5, 5, 8, 8, 8, 8, 8, 8, 8, 6, 8, 8, 8, 8, 8, 8, 8, 5, 8, 5, 8, 5, 8, 8, 1, 0, 8, 8, 8, 0, 6, 8, 0, 1, 1, 1, 1, 3, 3, 8, 8, 8, 9, 9, 1, 3, 8, 8, 3, 3, 3, 8, 8, 8, 8, 0, 4, 8, 8, 8, 8, 8, 8, 8, 8, 8, 8, 6, 1, 1, 8, 8, 8, 8, 8, 8, 1, 6, 8, 8, 8, 8, 8, 8, 8, 8, 8, 3, 3, 3, 8, 8, 8, 8, 8, 7, 8, 8, 8, 8, 8, 8, 8, 8, 8, 8, 8, 8, 8, 8, 8, 8, 8, 8, 8, 8, 8, 8, 8, 8, 8, 3, 3, 8, 3, 8, 8, 8, 8, 8, 8, 0, 8, 8, 8, 3, 3, 8, 3, 8, 8, 8, 8, 8, 8, 8, 8, 8, 8, 3, 8, 8, 8, 8, 8, 8, 8, 8, 7, 8, 8, 8, 7, 8, 0, 8, 8, 8, 6, 8, 8, 8, 8, 8, 8, 3, 8, 8, 8, 3, 8, 6, 8, 8, 7, 7, 8, 8, 8, 8, 3, 8, 8, 8, 8, 8, 8, 8, 8, 8, 8, 8, 8, 8, 8, 8, 8, 8, 8, 7, 3, 8, 4, 8, 8, 8, 7, 7, 7, 8, 9, 0, 8, 8, 8, 8, 8, 7, 7, 7, 8, 8, 7, 7, 7, 7, 8, 7, 8, 8, 8, 8, 7, 7, 7, 8, 7, 8, 8, 8, 7, 8, 7, 8, 8, 8, 7, 7, 7, 8, 8, 8, 8, 3, 8, 8, 8, 8, 8, 8, 8, 8, 6, 1, 1, 1, 8, 8, 8, 8, 8, 8, 8, 8, 8, 8, 8, 8, 8, 8, 8, 8, 8, 8, 8, 8, 8, 8, 8, 8, 8, 8, 8, 8, 8, 8, 8, 8, 8, 8, 8, 8, 8, 8, 8, 8, 8, 8, 8, 8, 8, 8, 8, 8, 8, 8, 8, 8, 3, 8, 8, 3, 8, 8, 8, 8, 8, 8, 8, 8, 8, 8, 8, 0, 8, 8, 8, 8, 8, 8, 8, 8, 8, 8, 8, 8, 8, 6, 8, 3, 3, 3, 3, 3, 5, 9, 9, 3, 7, 8, 0, 6, 7, 7, 0, 8, 8, 0, 8, 8, 8, 8, 8, 8, 8, 5, 8, 8, 1, 8, 8, 8, 8, 8, 8, 8, 8, 8, 0, 7, 8, 8, 8, 8, 8, 0, 8, 8, 8, 8, 8, 8, 8, 8, 8, 8, 8, 8, 8, 8, 8, 8, 8, 1, 8, 8, 8, 8, 0, 0, 8, 3, 3, 8, 8, 8, 5, 8, 8, 8, 8, 3, 3, 3, 8, 3, 8, 3, 2, 3, 3, 3, 3, 3, 2, 3, 8, 8, 8, 2, 3, 6, 3, 3, 8, 8, 8, 6, 8, 8, 8, 8, 8, 8, 8, 8, 8, 8, 8, 8, 8, 8, 8, 8, 8, 8, 8, 8, 7, 8, 0, 8, 3, 0, 7, 8, 8, 8, 8, 8, 8, 8, 8, 8, 8, 8, 8, 8, 8, 8, 8, 8, 8, 8, 8, 8, 8, 6, 6, 8, 8, 8, 1, 1, 1, 8, 6, 6, 8, 8, 8, 8, 8, 1, 1, 1, 8, 3, 8, 8, 8, 5, 8, 8, 1, 8, 8, 8, 8, 8, 8, 8, 8, 8, 8, 8, 8, 8, 8, 2, 0, 8, 0, 0, 8, 8, 8, 8, 8, 8, 8, 8, 0, 0, 8, 0, 0, 8, 8, 8, 0, 3, 8, 0, 0, 8, 8, 8, 8, 8, 8, 8, 9, 9, 9, 8, 8, 8, 8, 1, 8, 8, 8, 8, 8, 1, 5, 8, 8, 0, 0, 8, 0, 0, 8, 8, 0, 6, 6, 8, 9, 9, 8, 8, 8, 8, 8, 8, 8, 6, 8, 8, 8, 8, 8, 1, 8, 8, 3, 3, 3, 8, 8, 8, 8, 8, 8, 8, 8, 8, 8, 8, 8, 8, 8, 9, 8, 8, 0, 8, 8, 8, 8, 8, 8, 8, 8, 8, 8, 8, 8, 8, 3, 3, 3, 8, 8, 8, 0, 8, 8, 8, 8, 6, 8, 1, 1, 3, 8, 3, 3, 8, 8, 8, 8, 8, 8, 8, 8, 7, 0, 8, 8, 8, 8, 8, 1, 8, 8, 8, 8, 8, 8, 8, 8, 8, 7, 8, 8, 8, 3, 8, 8, 8, 3, 3, 3, 8, 8, 8, 8, 8, 8, 8, 8, 3, 3, 8, 8, 3, 3, 3, 3, 3, 3, 3, 5, 9, 9, 3, 3, 8, 8, 8, 8, 8, 8, 8, 8, 7, 7, 6, 8, 8, 3, 6, 8, 8, 8, 8, 8, 8, 8, 8, 8, 8, 8, 0, 8, 6, 6, 8, 8, 8, 8, 8, 8, 8, 8, 8, 8, 8, 8, 5, 5, 5, 8, 8, 8, 3, 8, 8, 8, 8, 8, 8, 8, 8, 8, 8, 8, 8, 8, 5, 8, 8, 1, 8, 6, 8, 8, 8, 8, 8, 8, 8, 8, 8, 8, 8, 8, 8, 8, 8, 8, 8, 8, 8, 8, 8, 8, 8, 8, 8, 8, 8, 8, 8, 8, 3, 8, 8, 8, 2, 2, 2, 2, 3, 2, 8, 8, 2, 8, 8, 2, 2, 8, 2, 2, 8, 8, 8, 8, 8, 8, 8, 8, 8, 8, 8, 8, 0, 0, 8, 5, 8, 5, 8, 8, 8, 8, 8, 8, 8, 8, 8, 8, 8, 6, 8, 6, 1, 8, 8, 8, 8, 1, 8, 8, 8, 1, 0, 8, 8, 8, 8, 8, 8, 8, 1, 1, 1, 1, 8, 8, 8, 8, 3, 8, 8, 0, 0, 8, 0, 0, 8, 7, 7, 8, 8, 2, 8, 8, 8, 8, 1, 8, 3, 8, 8, 8, 6, 8, 8, 8, 3, 8, 8, 8, 8, 8, 8, 8, 8, 8, 6, 6, 8, 6, 8, 8, 8, 8, 8, 4, 8, 2, 2, 8, 8, 8, 8, 8, 8, 8, 8, 8, 3, 8, 0, 8, 6, 8, 8, 8, 8, 8, 5, 8, 8, 8, 8, 8, 8, 8, 8, 8, 8, 8, 8, 7, 7, 7, 7, 8, 8, 8, 8, 8, 8, 8, 3, 8, 8, 8, 8, 0, 5, 0, 8, 6, 4, 8, 8, 8, 4, 3, 3, 4, 8, 8, 8, 8, 8, 8, 8, 8, 8, 8, 8, 8, 8, 8, 8, 8, 8, 8, 8, 8, 8, 8, 8, 8, 8, 8, 8, 8, 8, 8, 8, 8, 8, 8, 7, 6, 8, 8, 8, 3, 8, 8, 0, 8, 8, 8, 1, 1, 1, 1, 1, 1, 8, 8, 1, 8, 8, 8, 8, 8, 0, 8, 0, 8, 8, 8, 3, 8, 8, 3, 0, 8, 8, 8, 3, 8, 8, 8, 8, 8, 8, 8, 8, 8, 8, 8, 8, 8, 8, 8, 8, 8, 8, 8, 8, 6, 6, 8, 8, 8, 8, 8, 8, 8, 8, 8, 6, 8, 8, 6, 8, 2, 2, 8, 8, 8, 8, 8, 8, 8, 3, 3, 3, 8, 8, 8, 0, 3, 8, 8, 8, 8, 8, 8, 8, 7, 3, 8, 8, 8, 0, 0, 8, 8, 8, 8, 8, 8, 8, 8, 8, 8, 8, 8, 8, 8, 8, 8, 8, 8, 8, 8, 8, 8, 8, 8, 8, 8, 8, 0, 0, 0, 8, 8, 0, 8, 7, 7, 8, 0, 8, 8, 8, 0, 8, 0, 8, 8, 8, 8, 8, 8, 5, 8, 5, 5, 8, 8, 7, 8, 8, 8, 8, 7, 7, 7, 7, 8, 8, 8, 7, 7, 7, 7, 7, 8, 8, 8, 5, 6, 5, 6, 6, 8, 6, 8, 8, 8, 8, 8, 8, 8, 8, 8, 8, 8, 8, 8, 8, 8, 8, 8, 8, 0, 8, 8, 8, 8, 8, 8, 8, 8, 8, 8, 8, 8, 8, 8, 8, 8, 8, 8, 8, 8, 8, 8, 0, 8, 8, 8, 8, 8, 8, 8, 8, 8, 8, 8, 8, 8, 8, 8, 8, 8, 8, 8, 8, 8, 0, 8, 5, 8, 8, 0, 8, 5, 8, 8, 8, 8, 8, 8, 8, 0, 0, 0, 0, 8, 8, 8, 8, 8, 8, 8, 8, 8, 8, 8, 8, 8, 8, 7, 7, 7, 7, 8, 7, 7, 7, 7, 7, 7, 8, 8, 8, 8, 8, 8, 8, 8, 8, 8, 8, 8, 8, 8, 0, 8, 8, 8, 8, 8, 8, 8, 8, 8, 8, 2, 8, 8, 8, 8, 0, 8, 8, 7, 8, 8, 8, 8, 8, 8, 8, 8, 8, 8, 8, 8, 7, 7, 8, 8, 5, 5, 8, 8, 5, 5, 5, 8, 8, 8, 8, 8, 8, 8, 8, 8, 8, 8, 8, 8, 8, 0, 7, 8, 8, 1, 5, 8, 8, 8, 8, 7, 7, 8, 8, 8, 8, 8, 8, 8, 8, 8, 0, 8, 8, 2, 8, 8, 8, 8, 8, 8, 8, 8, 0, 8, 8, 8, 8, 8, 0, 8, 8, 8, 8, 8, 8, 2, 8, 8, 8, 1, 1, 8, 3, 8, 8, 8, 4, 4, 8, 8, 6, 8, 0, 1, 1, 4, 4, 3, 4, 8, 8, 8, 8, 5, 8, 5, 5, 5, 8, 5, 8, 0, 0, 0, 3, 4, 7, 8, 8, 8, 8, 0, 8, 7, 7, 7, 8, 7, 7, 8, 8, 8, 8, 8, 8, 7, 8, 8, 8, 8, 0, 8, 7, 7, 8, 8, 1, 6, 8, 8, 3, 7, 8, 7, 6, 6, 6, 6, 8, 8, 7, 8, 0, 8, 8, 8, 8, 8, 6, 6, 8, 8, 8, 8, 8, 8, 8, 8, 8, 8, 8, 8, 8, 8, 8, 8, 7, 8, 8, 8, 0, 0, 0, 0, 0, 0, 8, 3, 3, 3, 8, 0, 0, 8, 8, 8, 8, 5, 5, 5, 2, 8, 8, 8, 5, 5, 5, 5, 5, 5, 5, 5, 5, 8, 8, 3, 3, 2, 2, 2, 8, 8, 8, 8, 8, 7, 8, 8, 8, 8, 8, 8, 8, 8, 8, 8, 8, 8, 8, 8, 8, 8, 8, 0, 0, 6, 8, 8, 0, 8, 8, 8, 8, 3, 8, 8, 8, 3, 3, 1, 8, 8, 8, 8, 8, 8, 8, 8, 8, 8, 8, 8, 8, 8, 8, 8, 0, 8, 8, 8, 8, 8, 8, 8, 8, 8, 8, 8, 8, 8, 8, 8, 8, 7, 8, 8, 8, 7, 8, 8, 8, 8, 8, 6, 8, 8, 7, 8, 8, 8, 8, 8, 8, 8, 7, 8, 8, 8, 8, 8, 8, 8, 8, 8, 0, 8, 8, 8, 0, 8, 8, 8, 8, 8, 8, 8, 8, 8, 8, 8, 0, 8, 8, 8, 8, 8, 8, 8, 8, 8, 0, 8, 0, 0, 8, 8, 8, 8, 8, 8, 8, 8, 0, 8, 0, 8, 8, 8, 8, 8, 8, 8, 8, 8, 8, 8, 0, 8, 8, 8, 8, 0, 8, 0, 8, 8, 0, 8, 8, 0, 8, 8, 0, 8, 0, 0, 8, 8, 0, 8, 8, 8, 0, 8, 8, 8, 0, 0, 8, 8, 8, 8, 8, 8, 8, 8, 0, 8, 8, 8, 0, 8, 8, 3, 8, 8, 1, 1, 1, 4, 8, 1, 1, 1, 4, 8, 0, 8, 6, 8, 8, 8, 8, 0, 0, 8, 8, 0, 0, 8, 8, 8, 8, 8, 6, 6, 9, 9, 6, 0, 0, 3, 3, 0, 8, 8, 1, 1, 1, 4, 8, 0, 1, 1, 4, 2, 8, 8, 0, 1, 1, 1, 1, 1, 4, 4, 6, 8, 8, 8, 8, 8, 8, 8, 8, 8, 8, 8, 8, 8, 8, 8, 8, 8, 8, 8, 8, 8, 8, 7, 8, 3, 8, 8, 7, 8, 3, 8, 8, 8, 8, 8, 8, 8, 7, 8, 8, 8, 8, 8, 8, 0, 8, 8, 8, 8, 8, 8, 3, 8, 1, 0, 8, 8, 8, 8, 7, 8, 7, 0, 0, 8, 8, 8, 8, 8, 8, 8, 8, 8, 0, 0, 8, 0, 0, 8, 3, 8, 8, 8, 5, 6, 6, 1, 7, 8, 1, 8, 8, 8, 8, 8, 8, 8, 8, 3, 3, 3, 3, 8, 8, 8, 8, 8, 6, 8, 1, 8, 7, 7, 1, 1, 8, 8, 0, 8, 8, 8, 7, 8, 8, 8, 8, 0, 0, 0, 8, 8, 8, 8, 8, 8, 8, 8, 8, 8, 8, 8, 8, 8, 8, 8, 8, 8, 8, 9, 8, 8, 8, 8, 6, 8, 6, 8, 8, 8, 0, 8, 8, 7, 3, 7, 8, 8, 8, 8, 1, 1, 1, 1, 0, 0, 3, 3, 8, 3, 3, 3, 8, 8, 7, 7, 3, 8, 3, 3, 7, 8, 7, 8, 8, 8, 8, 8, 8, 8, 8, 8, 8, 8, 0, 6, 6, 8, 8, 8, 8, 8, 1, 1, 8, 8, 8, 8, 8, 8, 8, 8, 8, 8, 8, 8, 8, 8, 8, 8, 8, 7, 2, 8, 8, 0, 5, 1, 1, 1, 8, 8, 8, 8, 8, 8, 8, 8, 8, 8, 0, 8, 8, 8, 8, 8, 8, 8, 8, 8, 8, 8, 8, 8, 8, 8, 8, 8, 1, 8, 8, 8, 8, 8, 8, 8, 8, 8, 8, 8, 8, 8, 0, 8, 1, 8, 8, 3, 8, 8, 8, 3, 6, 6, 8, 3, 8, 0, 8, 8, 8, 8, 8, 8, 8, 8, 8, 8, 8, 1, 8, 8, 8, 8, 8, 8, 8, 8, 8, 8, 8, 3, 6, 8, 8, 8, 8, 8, 0, 3, 3, 0, 8, 8, 6, 8, 8, 1, 8, 8, 8, 8, 8, 8, 8, 8, 8, 0, 8, 8, 8, 8, 8, 8, 7, 8, 8, 8, 8, 8, 8, 8, 8, 3, 8, 3, 8, 7, 7, 4, 8, 2, 2, 8, 8, 8, 8, 8, 0, 3, 1, 8, 8, 8, 8, 8, 1, 8, 8, 8, 8, 8, 8, 8, 0, 8, 8, 6, 3, 3, 2, 2, 8, 8, 0, 8, 8, 8, 8, 6, 8, 8, 8, 6, 6, 8, 8, 0, 8, 8, 8, 8, 8, 8, 0, 0, 8, 8, 8, 8, 8, 8, 8, 8, 8, 8, 5, 8, 5, 8, 8, 8, 8, 7, 8, 8, 7, 5, 8, 0, 0, 8, 8, 8, 8, 8, 8, 8, 8, 3, 3, 0, 8, 8, 8, 3, 3, 8, 8, 8, 8, 8, 8, 1, 1, 8, 8, 8, 8, 8, 7, 8, 8, 8, 8, 8, 8, 3, 8, 3, 2, 2, 3, 8, 8, 8, 0, 8, 8, 8, 8, 8, 8, 8, 0, 0, 0, 8, 8, 8, 3, 2, 2, 3, 8, 8, 8, 8, 8, 0, 0, 0, 8, 8, 8, 8, 2, 3, 8, 8, 8, 8, 0, 0, 0, 8, 0, 0, 8, 8, 8, 0, 0, 0, 0, 7, 8, 0, 0, 8, 3, 8, 2, 8, 2, 3, 3, 8, 8, 2, 2, 8, 8, 8, 0, 0, 0, 0, 0, 8, 5, 0, 8, 0, 0, 0, 8, 8, 3, 0, 1, 5, 8, 0, 0, 8, 8, 8, 8, 8, 8, 8, 8, 3, 6, 8, 3, 3, 0, 8, 8, 3, 4, 4, 7, 3, 3, 8, 8, 3, 2, 2, 8, 8, 8, 3, 3, 6, 8, 2, 8, 8, 7, 8, 8, 8, 8, 8, 8, 8, 8, 8, 8, 0, 8, 3, 3, 7, 6, 6, 6, 6, 8, 8, 8, 8, 8, 8, 8, 8, 7, 8, 8, 8, 8, 8, 8, 8, 6, 8, 8, 8, 2, 2, 2, 2, 8, 8, 8, 8, 8, 8, 8, 8, 8, 8, 8, 8, 8, 0, 6, 1, 1, 8, 8, 3, 3, 8, 8, 3, 6, 6, 8, 8, 8, 8, 8, 8, 8, 8, 8, 8, 8, 8, 0, 8, 7, 0, 1, 1, 8, 8, 8, 8, 8, 8, 8, 8, 8, 8, 8, 8, 8, 8, 8, 3, 8, 8, 8, 0, 8, 8, 8, 8, 8, 3, 8, 8, 8, 3, 8, 8, 8, 8, 8, 8, 8, 8, 0, 6, 0, 8, 8, 6, 8, 8, 4, 8, 8, 8, 8, 8, 3, 8, 8, 8, 8, 8, 3, 3, 0, 8, 8, 0, 8, 8, 7, 8, 8, 8, 3, 3, 8, 8, 8, 3, 8, 8, 8, 8, 8, 8, 8, 8, 8, 5, 8, 5, 8, 8, 8, 8, 9, 8, 8, 8, 8, 8, 8, 8, 5, 8, 8, 5, 8, 8, 8, 8, 8, 8, 8, 8, 8, 8, 8, 8, 8, 8, 8, 8, 8, 8, 8, 8, 8, 8, 8, 0, 8, 8, 8, 8, 8, 8, 0, 8, 8, 8, 8, 8, 8, 8, 0, 8, 8, 8, 8, 8, 8, 6, 6, 8, 8, 8, 8, 8, 8, 8, 8, 8, 8, 8, 8, 8, 8, 8, 8, 8, 8, 0, 8, 8, 3, 3, 2, 2, 8, 8, 8, 8, 8, 0, 0, 0, 0, 6, 0, 0, 0, 6, 0, 8, 6, 8, 8, 8, 8, 8, 6, 6, 8, 8, 8, 8, 6, 6, 8, 8, 8, 8, 8, 8, 8, 8, 2, 8, 8, 8, 8, 8, 1, 8, 2, 8, 8, 8, 8, 8, 8, 3, 8, 8, 8, 8, 8, 1, 1, 8, 8, 8, 0, 8, 3, 8, 8, 8, 9, 8, 8, 8, 8, 8, 8, 6, 8, 7, 8, 8, 8, 8, 8, 0, 8, 3, 8, 8, 8, 8, 6, 8, 8, 8, 8, 8, 8, 8, 8, 8, 0, 8, 8, 8, 8, 8, 8, 8, 8, 8, 8, 8, 1, 8, 8, 8, 8, 4, 6, 0, 8, 8, 4, 8, 8, 8, 8, 3, 8, 8, 8, 8, 8, 8, 8, 8, 8, 8, 8, 0, 0, 8, 8, 1, 8, 8, 8, 8, 8, 2, 0, 2, 8, 8, 8, 8, 8, 8, 8, 8, 8, 1, 1, 7, 8, 8, 0, 8, 8, 8, 8, 2, 7, 8, 8, 8, 5, 8, 8, 8, 6, 8, 8, 8, 1, 1, 1, 8, 8, 8, 8, 8, 5, 8, 8, 5, 0, 5, 5, 8, 8, 8, 8, 8, 8, 8, 8, 8, 8, 8, 8, 8, 8, 7, 8, 8, 8, 8, 8, 8, 8, 8, 8, 8, 8, 8, 8, 8, 8, 8, 8, 8, 8, 8, 8, 8, 8, 8, 8, 8, 8, 8, 8, 0, 6, 6, 8, 8, 1, 8, 8, 3, 1, 1, 5, 5, 5, 8, 8, 8, 8, 1, 8, 8, 8, 0, 8, 8, 8, 8, 8, 8, 8, 3, 8, 8, 8, 8, 3, 7, 8, 0, 0, 0, 0, 0, 0, 0, 8, 8, 8, 8, 8, 8, 8, 7, 8, 8, 8, 8, 8, 6, 8, 8, 8, 8, 8, 8, 8, 8, 8, 8, 2, 8, 1, 8, 6, 8, 8, 3, 3, 3, 8, 6, 8, 8, 3, 0, 8, 0, 8, 2, 6, 8, 8, 8, 0, 0, 0, 7, 3, 8, 8, 4, 6, 7, 8, 1, 0, 6, 8, 8, 8, 5, 8, 8, 8, 8, 8, 8, 8, 8, 2, 7, 8, 8, 8, 5, 8, 0, 8, 8, 8, 8, 1, 8, 8, 8, 8, 2, 2, 8, 8, 6, 8, 8, 8, 8, 8, 8, 2, 2, 2, 8, 8, 5, 8, 8, 8, 8, 2, 8, 8, 8, 8, 8, 8, 6, 8, 8, 8, 8, 0, 0, 8, 6, 1, 0, 0, 0, 8, 8, 8, 8, 8, 8, 2, 2, 2, 2, 2, 2, 2, 2, 5, 5, 8, 8, 8, 0, 8, 8, 8, 8, 8, 5, 8, 8, 8, 7, 8, 8, 0, 8, 0, 8, 8, 8, 2, 0, 0, 8, 8, 0, 8, 2, 8, 2, 0, 1, 1, 8, 1, 8, 8, 8, 0, 0, 0, 8, 8, 8, 8, 3, 3, 8, 2, 8, 8, 8, 3, 2, 2, 8, 4, 8, 8, 3, 8, 0, 8, 6, 1, 8, 8, 8, 8, 8, 8, 8, 8, 8, 8, 8, 8, 2, 0, 8, 8, 8, 8, 8, 6, 7, 0, 0, 8, 8, 1, 8, 6, 6, 8, 6, 8, 8, 0, 8, 8, 8, 8, 8, 8, 8, 8, 8, 8, 8, 3, 3, 8, 3, 3, 6, 8, 3, 8, 7, 2, 2, 2, 8, 8, 8, 0, 0, 8, 7, 2, 3, 3, 3, 3, 3, 8, 2, 3, 3, 3, 3, 3, 8, 8, 8, 8, 8, 8, 8, 0, 8, 0, 0, 8, 8, 8, 8, 8, 8, 8, 8, 8, 8, 8, 8, 8, 8, 0, 0, 8, 8, 8, 8, 8, 8, 8, 8, 8, 8, 8, 8, 8, 8, 8, 9, 8, 8, 8, 8, 8, 8, 0, 0, 8, 8, 8, 8, 8, 4, 8, 8, 8, 8, 8, 8, 8, 8, 8, 8, 8, 8, 8, 8, 8, 8, 8, 8, 8, 8, 8, 8, 8, 8, 8, 7, 8, 5, 8, 8, 5, 8, 5, 8, 8, 8, 3, 8, 8, 8, 8, 5, 3, 8, 8, 7, 7, 8, 8, 8, 8, 8, 8, 8, 8, 8, 8, 6, 8, 8, 8, 8, 8, 8, 8, 8, 2, 2, 8, 8, 8, 0, 9, 9, 9, 8, 8, 8, 8, 8, 8, 8, 8, 8, 0, 8, 8, 8, 8, 8, 8, 8, 8, 8, 8, 8, 8, 8, 8, 8, 8, 8, 6, 8, 8, 0, 6, 5, 8, 7, 0, 9, 9, 5, 8, 8, 8, 8, 0, 0, 9, 9, 6, 9, 9, 9, 8, 9, 8, 8, 3, 6, 8, 8, 8, 8, 7, 0, 0, 8, 1, 1, 0, 0, 0, 0, 8, 8, 8, 8, 8, 3, 3, 3, 1, 1, 0, 0, 0, 0, 0, 7, 1, 1, 1, 1, 1, 7, 8, 8, 0, 8, 0, 0, 0, 8, 0, 0, 0, 8, 8, 8, 5, 8, 8, 6, 0, 8, 3, 3, 3, 8, 3, 3, 8, 8, 8, 8, 0, 8, 0, 8, 0, 8, 0, 3, 0, 8, 8, 8, 8, 8, 8, 8, 8, 8, 2, 2, 5, 8, 8, 8, 8, 8, 8, 8, 8, 8, 8, 5, 8, 5, 5, 8, 8, 8, 8, 8, 8, 8, 8, 8, 8, 8, 8, 5, 8, 8, 8, 6, 8, 8, 1, 1, 1, 1, 1, 1, 1, 1, 8, 8, 8, 8, 8, 8, 7, 8, 8, 9, 8, 8, 8, 8, 8, 1, 1, 1, 8, 8, 2, 2, 8, 8, 8, 8, 8, 3, 0, 0, 0, 0, 0, 0, 0, 8, 9, 9, 8, 8, 8, 8, 8, 0, 8, 0, 0, 0, 8, 8, 3, 8, 8, 6, 3, 8, 8, 8, 8, 8, 0, 6, 9, 3, 8, 3, 3, 3, 3, 3, 3, 3, 2, 3, 3, 3, 3, 3, 3, 3, 3, 3, 3, 3, 3, 3, 3, 3, 3, 3, 8, 8, 3, 3, 3, 3, 3, 3, 3, 3, 3, 8, 3, 3, 3, 3, 3, 3, 3, 3, 0, 8, 8, 8, 8, 8, 0, 8, 0, 0, 0, 0, 0, 0, 0, 0, 0, 0, 0, 8, 8, 8, 0, 1, 0, 8, 8, 8, 0, 8, 0, 0, 8, 3, 8, 8, 8, 8, 8, 8, 8, 8, 8, 8, 8, 8, 8, 8, 8, 8, 8, 8, 8, 5, 7, 7, 8, 0, 0, 0, 8, 8, 0, 3, 3, 3, 8, 8, 8, 8, 8, 8, 8, 8, 0, 0, 3, 8, 8, 8, 8, 8, 8, 8, 6, 0, 8, 8, 8, 8, 8, 3, 7, 7, 8, 8, 3, 0, 0, 0, 0, 0, 8, 8, 8, 6, 6, 8, 8, 8, 8, 8, 8, 8, 7, 8, 8, 8, 8, 8, 8, 8, 4, 8, 8, 8, 8, 8, 0, 8, 8, 8, 8, 8, 8, 7, 7, 8, 8, 8, 8, 8, 8, 8, 8, 8, 8, 3, 3, 8, 8, 3, 3, 8, 8, 8, 8, 8, 8, 8, 3, 8, 8, 6, 8, 8, 8, 8, 8, 8, 8, 8, 8, 8, 7, 0, 8, 8, 3, 3, 8, 3, 3, 3, 3, 3, 8, 8, 8, 8, 8, 8, 8, 8, 8, 7, 7, 3, 3, 7, 8, 8, 8, 8, 8, 8, 8, 8, 8, 1, 8, 8, 1, 1, 8, 8, 8, 3, 2, 2, 3, 3, 2, 8, 8, 8, 7, 7, 8, 8, 8, 8, 7, 7, 8, 8, 7, 8, 7, 8, 8, 8, 8, 8, 1, 7, 8, 0, 0, 5, 3, 3, 3, 8, 8, 8, 8, 8, 8, 8, 8, 0, 8, 8, 8, 8, 8, 8, 8, 8, 8, 8, 8, 8, 4, 8, 3, 0, 8, 8, 8, 8, 0, 0, 0, 8, 8, 8, 9, 9, 8, 8, 8, 8, 8, 8, 8, 8, 8, 8, 8, 8, 8, 8, 3, 8, 8, 8, 8, 8, 0, 8, 8, 8, 8, 6, 8, 8, 8, 8, 8, 8, 8, 0, 8, 8, 8, 8, 8, 8, 8, 4, 8, 8, 8, 5, 0, 2, 8, 3, 8, 8, 8, 8, 8, 0, 8, 2, 8, 8, 8, 8, 2, 8, 8, 8, 8, 8, 8, 8, 8, 2, 8, 2, 8, 8, 8, 8, 8, 8, 8, 8, 8, 6, 6, 6, 0, 8, 8, 2, 8, 8, 8, 8, 5, 5, 8, 8, 8, 8, 8, 8, 2, 1, 3, 3, 3, 3, 3, 1, 1, 3, 3, 3, 3, 3, 3, 3, 3, 3, 3, 3, 3, 3, 3, 3, 3, 3, 3, 0, 3, 3, 3, 3, 3, 5, 5, 5, 3, 3, 3, 3, 3, 8, 8, 8, 8, 3, 8, 8, 8, 7, 3, 8, 8, 8, 8, 8, 8, 8, 8, 8, 3, 1, 1, 3, 8, 8, 1, 1, 1, 8, 8, 8, 1, 8, 1, 8, 1, 1, 1, 1, 1, 1, 1, 8, 9, 9, 8, 8, 3, 6, 8, 8, 8, 8, 8, 8, 8, 8, 8, 8, 8, 8, 8, 8, 8, 8, 8, 8, 8, 8, 8, 8, 8, 8, 8, 8, 8, 8, 8, 8, 8, 8, 8, 8, 8, 8, 7, 8, 8, 8, 8, 8, 8, 7, 8, 8, 8, 8, 8, 3, 3, 3, 8, 5, 8, 8, 8, 8, 5, 5, 8, 8, 8, 6, 8, 8, 8, 8, 8, 8, 8, 8, 8, 8, 8, 8, 8, 8, 7, 8, 8, 8, 6, 8, 8, 8, 8, 7, 8, 8, 8, 6, 7, 9, 9, 6, 7, 7, 8, 8, 8, 8, 8, 8, 8, 8, 8, 6, 6, 8, 8, 8, 8, 8, 8, 8, 7, 8, 8, 8, 8, 7, 8, 8, 8, 8, 8, 3, 1, 5, 8, 8, 8, 8, 8, 8, 8, 8, 8, 8, 8, 5, 8, 8, 8, 8, 8, 8, 8, 8, 8, 0, 8, 8, 8, 8, 0, 8, 8, 2, 8, 8, 8, 8, 8, 8, 8, 8, 8, 8, 8, 8, 8, 8, 5, 1, 8, 8, 8, 8, 8, 8, 8, 8, 8, 8, 6, 6, 6, 8, 8, 8, 8, 8, 8, 8, 8, 8, 8, 8, 8, 0, 8, 8, 8, 8, 8, 8, 8, 8, 5, 8, 8, 8, 7, 6, 9, 9, 7, 8, 8, 8, 5, 8, 8, 8, 2, 8, 8, 8, 8, 8, 8, 8, 8, 8, 9, 9, 7, 7, 9, 6, 8, 8, 8, 8, 8, 8, 8, 8, 8, 8, 8, 8, 8, 8, 8, 3, 6, 8, 2, 2, 8, 7, 3, 6, 8, 7, 7, 3, 8, 7, 3, 0, 8, 7, 8, 8, 7, 6, 8, 8, 8, 8, 8, 8, 8, 8, 8, 6, 8, 8, 8, 8, 8, 8, 8, 6, 6, 8, 8, 7, 6, 8, 8, 1, 8, 1, 1, 1, 1, 1, 1, 1, 1, 8, 8, 1, 1, 2, 7, 5, 8, 8, 8, 8, 8, 8, 8, 8, 8, 8, 8, 8, 8, 8, 8, 8, 8, 8, 8, 8, 8, 8, 3, 3, 3, 8, 8, 8, 8, 8, 8, 8, 8, 8, 8, 8, 8, 8, 8, 8, 8, 9, 8, 8, 8, 8, 8, 6, 0, 8, 8, 1, 8, 8, 2, 9, 6, 6, 8, 8, 8, 8, 3, 6, 8, 2, 2, 8, 8, 0, 8, 8, 8, 8, 8, 8, 8, 8, 8, 1, 0, 8, 8, 8, 8, 8, 2, 7, 8, 8, 8, 8, 8, 8, 8, 8, 8, 8, 8, 8, 8, 8, 8, 8, 8, 8, 8, 8, 8, 8, 8, 8, 0, 3, 8, 8, 8, 8, 8, 8, 8, 2, 2, 8, 2, 0, 8, 8, 8, 0, 8, 8, 8, 8, 8, 8, 8, 8, 8, 8, 8, 8, 8, 8, 8, 8, 8, 8, 8, 8, 8, 8, 8, 8, 6, 0, 8, 8, 8, 3, 8, 8, 8, 5, 8, 8, 5, 8, 8, 5, 1, 8, 0, 8, 8, 8, 7, 8, 8, 8, 2, 8, 0, 7, 8, 8, 8, 8, 8, 8, 8, 8, 8, 8, 8, 8, 6, 7, 7, 8, 8, 8, 8, 7, 8, 8, 8, 2, 2, 0, 0, 8, 7, 7, 8, 7, 3, 3, 3, 3, 3, 8, 8, 7, 8, 7, 2, 2, 2, 8, 8, 8, 6, 8, 8, 8, 8, 8, 8, 8, 8, 8, 8, 8, 2, 2, 8, 8, 8, 8, 8, 8, 2, 2, 5, 8, 8, 8, 8, 8, 8, 7, 8, 8, 9, 3, 8, 8, 3, 3, 8, 3, 3, 8, 8, 7, 8, 1, 8, 8, 8, 8, 0, 8, 8, 8, 7, 5, 8, 8, 7, 8, 8, 7, 0, 3, 8, 8, 8, 8, 8, 8, 8, 8, 8, 8, 5, 8, 8, 8, 8, 8, 8, 8, 8, 8, 8, 7, 8, 8, 7, 7, 8, 7, 7, 8, 8, 8, 3, 3, 1, 3, 3, 3, 3, 3, 3, 3, 5, 3, 8, 8, 8, 8, 0, 8, 8, 8, 8, 8, 8, 8, 8, 6, 8, 8, 8, 8, 8, 8, 5, 8, 8, 6, 8, 8, 6, 6, 1, 0, 8, 8, 1, 5, 1, 8, 8, 0, 8, 5, 0, 8, 8, 8, 8, 8, 8, 8, 6, 0, 3, 8, 6, 8, 8, 8, 8, 8, 3, 8, 3, 8, 1, 8, 3, 6, 1, 8, 8, 8, 8, 8, 8, 8, 8, 8, 8, 8, 8, 8, 8, 8, 8, 8, 8, 8, 8, 8, 8, 8, 8, 8, 8, 8, 8, 8, 8, 2, 8, 8, 8, 8, 8, 8, 8, 8, 3, 0, 8, 8, 8, 8, 8, 8, 5, 8, 8, 8, 8, 8, 3, 8, 3, 8, 2, 8, 1, 8, 8, 3, 8, 8, 6, 8, 8, 8, 8, 8, 8, 8, 8, 8, 8, 8, 8, 8, 8, 8, 8, 8, 8, 3, 7, 8, 8, 5, 8, 8, 8, 8, 8, 6, 8, 8, 7, 8, 8, 6, 6, 8, 3, 6, 8, 8, 0, 0, 8, 8, 2, 8, 6, 8, 6, 8, 8, 8, 8, 8, 8, 3, 3, 8, 6, 3, 8, 1, 3, 6, 6, 2, 8, 1, 5, 5, 5, 8, 8, 8, 8, 8, 5, 5, 5, 8, 8, 8, 8, 6, 6, 8, 8, 7, 3, 8, 8, 8, 8, 0, 7, 8, 3, 8, 8, 3, 8, 8, 0, 0, 0, 3, 0, 0, 8, 3, 3, 3, 3, 2, 8, 8, 3, 3, 8, 8, 8, 8, 8, 8, 8, 8, 8, 8, 8, 8, 8, 8, 8, 8, 8, 8, 7, 8, 8, 8, 0, 8, 8, 8, 8, 8, 8, 2, 8, 8, 1, 8, 8, 8, 8, 8, 8, 8, 8, 7, 6, 0, 8, 8, 8, 8, 3, 8, 8, 8, 8, 3, 3, 7, 8, 8, 3, 8, 1, 1, 8, 2, 8, 8, 8, 8, 8, 8, 3, 8, 8, 8, 8, 8, 8, 8, 8, 8, 8, 8, 8, 8, 2, 8, 8, 8, 8, 2, 8, 8, 8, 8, 8, 8, 8, 8, 8, 7, 8, 8, 8, 8, 8, 8, 7, 8, 8, 3, 6, 8, 8, 8, 7, 2, 5, 2, 8, 2, 8, 8, 8, 2, 2, 2, 8, 8, 2, 8, 8, 3, 8, 8, 8, 8, 8, 8, 8, 8, 2, 8, 8, 3, 8, 8, 5, 8, 8, 7, 2, 8, 2, 8, 8, 8, 8, 8, 8, 8, 8, 8, 8, 8, 5, 8, 0, 6, 8, 8, 8, 8, 6, 8, 3, 8, 0, 8, 8, 8, 8, 8, 7, 3, 7, 7, 8, 0, 8, 8, 8, 8, 8, 8, 8, 8, 8, 8, 8, 8, 8, 8, 3, 3, 3, 8, 2, 7, 7, 3, 7, 7, 7, 7, 8, 0, 8, 6, 8, 8, 8, 8, 8, 8, 8, 8, 8, 7, 8, 8, 1, 1, 1, 8, 1, 1, 1, 1, 1, 1, 1, 8, 8, 6, 6, 3, 3, 3, 8, 5, 8, 6, 8, 8, 6, 8, 8, 8, 8, 8, 8, 8, 8, 8, 8, 8, 8, 8, 8, 8, 0, 8, 8, 8, 8, 8, 8, 8, 8, 8, 8, 8, 8, 8, 8, 8, 8, 8, 8, 8, 8, 8, 8, 8, 8, 6, 8, 8, 8, 1, 8, 8, 8, 8, 8, 8, 8, 8, 8, 0, 8, 8, 0, 1, 0, 1, 1, 1, 1, 8, 8, 8, 8, 8, 8, 8, 8, 8, 0, 8, 0, 3, 8, 8, 8, 8, 8, 8, 8, 8, 8, 6, 8, 8, 8, 8, 8, 8, 8, 7, 3, 4, 8, 0, 8, 8, 8, 5, 5, 5, 1, 0, 0, 8, 0, 8, 8, 8, 8, 0, 0, 8, 8, 0, 0, 8, 8, 8, 8, 8, 8, 8, 8, 8, 1, 8, 8, 1, 8, 8, 8, 8, 3, 8, 8, 8, 8, 8, 8, 8, 8, 8, 8, 8, 8, 8, 8, 3, 7, 7, 1, 8, 7, 1, 7, 1, 1, 1, 1, 1, 1, 1, 1, 1, 1, 1, 1, 8, 0, 0, 0, 8, 8, 8, 8, 8, 3, 8, 8, 3, 4, 9, 9, 8, 8, 8, 8, 8, 8, 8, 8, 7, 8, 8, 8, 8, 8, 8, 8, 8, 8, 8, 8, 8, 8, 8, 8, 8, 8, 0, 8, 8, 9, 9, 8, 9, 9, 8, 8, 8, 8, 8, 8, 8, 8, 8, 1, 3, 3, 8, 3, 1, 1, 8, 1, 1, 1, 8, 8, 6, 8, 3, 3, 3, 8, 8, 5, 7, 8, 1, 8, 7, 8, 8, 7, 8, 8, 8, 0, 8, 8, 8, 7, 8, 8, 8, 8, 3, 3, 3, 8, 8, 8, 8, 8, 8, 0, 8, 8, 8, 8, 8, 8, 8, 8, 8, 8, 8, 8, 8, 6, 8, 8, 8, 8, 8, 8, 8, 8, 8, 8, 8, 8, 8, 8, 8, 8, 8, 8, 8, 8, 8, 2, 5, 7, 8, 8, 1, 1, 1, 2, 3, 3, 8, 8, 2, 8, 8, 8, 8, 8, 8, 8, 8, 8, 0, 5, 5, 8, 8, 0, 8, 6, 8, 8, 8, 8, 8, 8, 8, 1, 8, 8, 0, 7, 8, 8, 8, 8, 8, 8, 8, 6, 0, 0, 8, 8, 8, 8, 8, 8, 8, 8, 6, 0, 8, 0, 5, 8, 0, 8, 8, 8, 0, 8, 8, 0, 8, 8, 8, 0, 8, 8, 0, 8, 8, 3, 8, 8, 8, 8, 8, 7, 6, 6, 8, 8, 0, 0, 8, 8, 8, 8, 8, 8, 8, 8, 8, 8, 8, 8, 8, 8, 2, 8, 8, 8, 8, 8, 3, 3, 9, 2, 3, 8, 8, 1, 1, 1, 1, 1, 1, 3, 3, 8, 0, 3, 3, 2, 3, 8, 3, 8, 7, 8, 8, 8, 8, 8, 8, 3, 2, 0, 8, 8, 8, 8, 8, 8, 8, 8, 8, 8, 8, 3, 8, 1, 3, 3, 2, 3, 8, 8, 8, 8, 8, 8, 8, 8, 8, 8, 8, 8, 8, 0, 8, 2, 7, 8, 8, 8, 8, 8, 8, 4, 8, 8, 3, 8, 2, 8, 5, 8, 8, 0, 8, 8, 6, 8, 8, 8, 8, 4, 6, 8, 8, 1, 0, 8, 1, 0, 8, 1, 0, 4, 6, 8, 7, 7, 7, 8, 8, 8, 8, 8, 0, 8, 8, 8, 8, 8, 8, 0, 8, 8, 8, 8, 8, 7, 7, 7, 8, 7, 8, 8, 8, 8, 8, 8, 9, 9, 3, 3, 9, 9, 3, 9, 9, 9, 8, 8, 8, 8, 8, 6, 3, 3, 3, 3, 3, 3, 3, 3, 3, 3, 8, 8, 8, 8, 8, 8, 8, 5, 8, 0, 6, 8, 8, 0, 8, 0, 8, 8, 3, 8, 8, 8, 8, 8, 8, 3, 2, 8, 8, 3, 8, 8, 8, 8, 8, 8, 8, 8, 6, 8, 8, 8, 2, 0, 8, 8, 8, 8, 8, 8, 8, 8, 8, 8, 8, 8, 8, 8, 8, 8, 8, 8, 8, 8, 6, 8, 7, 8, 8, 8, 8, 8, 8, 8, 0, 8, 8, 8, 8, 8, 8, 3, 3, 3, 3, 8, 7, 5, 8, 8, 8, 8, 2, 8, 8, 8, 8, 8, 8, 8, 7, 8, 7, 8, 8, 8, 8, 8, 8, 8, 6, 8, 8, 8, 8, 8, 8, 8, 8, 8, 0, 8, 8, 8, 8, 8, 8, 7, 8, 0, 6, 8, 8, 8, 8, 8, 8, 8, 6, 6, 8, 8, 3, 2, 8, 0, 0, 8, 8, 3, 3, 3, 2, 8, 2, 8, 8, 3, 3, 3, 8, 8, 8, 8, 8, 5, 5, 5, 5, 8, 8, 8, 3, 8, 8, 6, 8, 8, 8, 8, 8, 8, 8, 7, 8, 3, 8, 8, 8, 6, 6, 8, 6, 3, 3, 7, 3, 2, 8, 8, 8, 8, 8, 8, 8, 8, 0, 8, 8, 8, 6, 8, 5, 9, 8, 6, 8, 8, 8, 0, 8, 8, 8, 5, 8, 8, 8, 8, 8, 8, 3, 8, 8, 7, 7, 8, 2, 0, 8, 8, 8, 8, 8, 6, 6, 9, 9, 9, 6, 6, 8, 8, 8, 8, 8, 8, 8, 0, 8, 8, 8, 3, 8, 8, 8, 8, 8, 8, 8, 8, 8, 8, 2, 6, 8, 8, 8, 8, 8, 8, 8, 8, 3, 1, 1, 1, 3, 1, 3, 8, 8, 8, 8, 8, 3, 1, 1, 1, 3, 1, 3, 8, 8, 8, 8, 8, 8, 8, 8, 8, 8, 8, 7, 8, 8, 8, 8, 8, 8, 3, 8, 8, 8, 8, 8, 8, 8, 0, 0, 8, 3, 3, 8, 8, 8, 8, 8, 8, 6, 6, 6, 0, 8, 8, 8, 6, 8, 8, 8, 8, 8, 8, 6, 8, 8, 8, 8, 8, 8, 8, 8, 8, 8, 8, 8, 8, 0, 8, 8, 8, 2, 3, 3, 3, 3, 3, 6, 8, 8, 8, 8, 8, 8, 8, 8, 8, 3, 8, 3, 8, 8, 8, 0, 0, 7, 8, 8, 0, 8, 8, 8, 2, 8, 8, 8, 3, 3, 8, 0, 0, 5, 3, 0, 8, 8, 1, 1, 8, 2, 2, 8, 8, 0, 0, 0, 8, 8, 8, 8, 8, 8, 7, 8, 0, 8, 8, 8, 3, 0, 8, 8, 8, 0, 0, 8, 8, 8, 8, 8, 3, 8, 8, 0, 0, 6, 0, 0, 8, 5, 0, 3, 3, 3, 3, 7, 8, 7, 8, 8, 8, 8, 8, 8, 6, 8, 8, 8, 8, 8, 8, 8, 8, 8, 0, 8, 8, 7, 2, 8, 8, 8, 8, 8, 3, 3, 1, 8, 8, 8, 8, 8, 8, 8, 8, 8, 8, 8, 8, 0, 0, 0, 8, 0, 8, 8, 8, 8, 8, 1, 8, 0, 8, 8, 1, 8, 8, 6, 8, 8, 8, 8, 8, 0, 8, 8, 8, 8, 8, 3, 2, 2, 0, 3, 3, 3, 8, 8, 6, 6, 8, 8, 8, 8, 8, 8, 3, 8, 8, 0, 8, 3, 8, 8, 8, 8, 3, 5, 8, 8, 8, 2, 8, 8, 8, 7, 2, 8, 8, 8, 8, 0, 0, 8, 8, 8, 8, 2, 8, 8, 8, 8, 8, 8, 8, 8, 8, 8, 8, 8, 8, 0, 0, 8, 8, 8, 0, 0, 0, 8, 8, 8, 8, 8, 8, 8, 2, 6, 8, 8, 8, 8, 8, 3, 8, 8, 8, 3, 7, 8, 8, 3, 8, 8, 8, 3, 8, 8, 8, 8, 3, 2, 8, 2, 6, 8, 8, 8, 7, 8, 0, 8, 8, 8, 8, 8, 8, 8, 8, 8, 8, 8, 0, 0, 8, 8, 8, 8, 8, 8, 8, 8, 8, 8, 8, 8, 0, 8, 8, 8, 8, 2, 8, 8, 8, 6, 3, 8, 3, 3, 1, 1, 8, 8, 1, 1, 3, 3, 3, 8, 3, 3, 1, 1, 8, 8, 3, 1, 1, 3, 3, 8, 7, 8, 3, 8, 8, 8, 6, 8, 8, 8, 8, 8, 0, 8, 8, 8, 0, 0, 8, 8, 8, 8, 8, 5, 8, 8, 6, 3, 8, 0, 7, 8, 8, 8, 8, 8, 8, 8, 6, 6, 3, 8, 8, 9, 9, 8, 8, 8, 8, 0, 8, 6, 6, 8, 6, 3, 8, 8, 8, 8, 8, 8, 8, 8, 8, 8, 8, 8, 8, 8, 4, 2, 8, 4, 8, 8, 4, 8, 8, 8, 8, 8, 8, 8, 8, 0, 0, 0, 0, 2, 0, 0, 0, 0, 0, 0, 2, 0, 0, 0, 0, 0, 0, 2, 8, 8, 7, 8, 8, 8, 8, 8, 8, 7, 8, 8, 8, 8, 8, 3, 8, 3, 8, 8, 0, 8, 8, 8, 8, 8, 8, 8, 8, 8, 8, 8, 8, 8, 8, 8, 7, 8, 8, 8, 8, 8, 8, 8, 8, 8, 7, 8, 4, 4, 4, 8, 8, 7, 8, 8, 6, 8, 8, 0, 0, 8, 8, 0, 2, 8, 0, 0, 8, 8, 8, 8, 8, 0, 7, 0, 8, 0, 1, 1, 8, 8, 8, 8, 8, 8, 8, 8, 8, 8, 8, 8, 8, 8, 8, 8, 4, 8, 8, 8, 8, 6, 3, 8, 8, 8, 8, 8, 8, 8, 8, 8, 8, 8, 8, 8, 0, 6, 0, 0, 0, 8, 6, 8, 8, 8, 8, 8, 8, 8, 8, 8, 5, 8, 8, 8, 0, 8, 0, 8, 8, 8, 8, 6, 8, 3, 3, 2, 2, 3, 3, 8, 2, 8, 8, 8, 8, 8, 8, 7, 7, 8, 8, 0, 0, 7, 8, 8, 8, 8, 8, 8, 8, 8, 8, 8, 8, 8, 8, 8, 8, 8, 8, 8, 8, 8, 0, 8, 8, 8, 8, 8, 5, 8, 8, 8, 8, 8, 3, 3, 8, 8, 2, 8, 8, 8, 8, 8, 8, 8, 2, 8, 8, 8, 8, 8, 8, 8, 8, 3, 6, 8, 8, 8, 8, 8, 8, 8, 8, 6, 3, 6, 0, 8, 8, 8, 3, 3, 3, 8, 8, 3, 3, 8, 3, 8, 8, 8, 8, 8, 8, 8, 8, 7, 8, 8, 8, 8, 8, 8, 8, 3, 8, 8, 8, 8, 8, 8, 8, 3, 3, 8, 8, 8, 8, 8, 8, 3, 3, 3, 8, 8, 8, 8, 8, 8, 8, 1, 8, 8, 8, 8, 8, 2, 8, 8, 8, 8, 8, 0, 7, 5, 0, 9, 9, 9, 8, 8, 8, 8, 8, 8, 8, 8, 8, 8, 8, 8, 8, 8, 3, 3, 9, 3, 8, 8, 8, 8, 8, 8, 6, 3, 8, 8, 8, 8, 8, 8, 8, 8, 8, 8, 8, 8, 8, 8, 8, 8, 8, 8, 8, 8, 8, 8, 8, 8, 7, 8, 8, 8, 8, 8, 8, 8, 8, 8, 8, 8, 8, 8, 8, 3, 3, 3, 8, 8, 8, 8, 8, 8, 8, 8, 8, 0, 8, 8, 8, 8, 8, 8, 8, 8, 8, 8, 8, 8, 8, 8, 3, 3, 3, 8, 8, 8, 7, 8, 8, 8, 8, 8, 8, 8, 8, 8, 6, 8, 2, 8, 8, 8, 8, 8, 8, 8, 8, 8, 8, 8, 8, 8, 8, 8, 8, 8, 8, 8, 8, 8, 8, 8, 8, 8, 8, 7, 8, 8, 5, 8, 8, 8, 8, 8, 8, 8, 6, 6, 8, 8, 8, 8, 8, 8, 8, 7, 8, 8, 8, 8, 7, 3, 0, 8, 8, 8, 8, 7, 7, 1, 8, 8, 8, 8, 8, 8, 8, 8, 8, 8, 8, 8, 8, 8, 8]\n"
     ]
    }
   ],
   "source": [
    "print(list(preds))"
   ]
  },
  {
   "cell_type": "code",
   "execution_count": 170,
   "metadata": {
    "collapsed": true
   },
   "outputs": [],
   "source": [
    "svd = TruncatedSVD(n_components=1000)\n",
    "features = svd.fit_transform(matrix)"
   ]
  },
  {
   "cell_type": "code",
   "execution_count": 171,
   "metadata": {
    "collapsed": false
   },
   "outputs": [
    {
     "data": {
      "text/plain": [
       "0.64184436180689586"
      ]
     },
     "execution_count": 171,
     "metadata": {},
     "output_type": "execute_result"
    }
   ],
   "source": [
    "svd.explained_variance_ratio_.sum()"
   ]
  },
  {
   "cell_type": "markdown",
   "metadata": {},
   "source": [
    "# Kmeans"
   ]
  },
  {
   "cell_type": "code",
   "execution_count": 316,
   "metadata": {
    "collapsed": true
   },
   "outputs": [],
   "source": [
    "Number_of_clusters = 10"
   ]
  },
  {
   "cell_type": "code",
   "execution_count": 317,
   "metadata": {
    "collapsed": false
   },
   "outputs": [
    {
     "name": "stdout",
     "output_type": "stream",
     "text": [
      "[2 1 1 1 4 2 2 1 1 2 1 2 2 9 9 1 1 2 1 2 9 1 9 1 1]\n"
     ]
    }
   ],
   "source": [
    "model = KMeans(n_clusters=Number_of_clusters, random_state=1)\n",
    "preds = model.fit_predict(matrix)\n",
    "print(preds[:25])"
   ]
  },
  {
   "cell_type": "code",
   "execution_count": 318,
   "metadata": {
    "collapsed": false
   },
   "outputs": [
    {
     "name": "stdout",
     "output_type": "stream",
     "text": [
      "cluster size:  296\n",
      "sullivan philippe ines jacob muscatine monica lissa hanley speech huma\n",
      "\n",
      "cluster size:  289\n",
      "source libyan libya government al el magariaf minister individual national\n",
      "\n",
      "cluster size:  5927\n",
      "cheryl mill huma abedin call sullivan jacob full wa\n",
      "\n",
      "cluster size:  244\n",
      "lona valmoro huma abedin schedule secretary pm cheryl mill\n",
      "\n",
      "cluster size:  231\n",
      "anne slaughter marie sullivan mill cheryl jacob full abedin speech\n",
      "\n",
      "cluster size:  284\n",
      "lauren jiloty call huma abedin aug mashabane update list thu\n",
      "\n",
      "cluster size:  187\n",
      "pm office secretary room meeting depart arrive route department\n",
      "\n",
      "cluster size:  227\n",
      "call deal party dup gordon said agreement davutoglu text power\n",
      "\n",
      "cluster size:  200\n",
      "holbrooke call abedin huma eikenberry wa sullivan jacob full ha\n",
      "\n",
      "cluster size:  3692\n",
      "wa ha said would government one president american\n",
      "\n"
     ]
    }
   ],
   "source": [
    "for i in range(Number_of_clusters):\n",
    "    print(\"cluster size: \", messages[preds == i].shape[0])\n",
    "    print(count_top_N_words_in_cluster(messages[preds == i], Number_of_clusters))\n",
    "    print()"
   ]
  },
  {
   "cell_type": "markdown",
   "metadata": {},
   "source": [
    "Как видно из полученных результатов, часто встречаются слова, которые сложно отнести к теме, поэтому для дальнейшей оптимизации можно строить кластеризацию, анализировать топ 10 слов, если там будут слова, которые не имеют отношения к теме - удалять их. Это, я считаю, поможет улучшить кластеризацию. Я этого не проделал до варианта, который мне покажется подходящим из-за нехватки ресурсов вычислительной системы (вычисления происходят очень долго). \n",
    "\n",
    "Наверное, еще можно было бы убрать слова, которые короче 3 символов, потому что они не несут особой смысловой нагрузки. Например:\n",
    "- wa\n",
    "- ha\n",
    "- thu\n",
    "- al\n",
    "- el\n",
    "\n",
    "Возможно это тоже должно помочь."
   ]
  },
  {
   "cell_type": "code",
   "execution_count": null,
   "metadata": {
    "collapsed": true
   },
   "outputs": [],
   "source": []
  }
 ],
 "metadata": {
  "kernelspec": {
   "display_name": "Python 3",
   "language": "python",
   "name": "python3"
  },
  "language_info": {
   "codemirror_mode": {
    "name": "ipython",
    "version": 3
   },
   "file_extension": ".py",
   "mimetype": "text/x-python",
   "name": "python",
   "nbconvert_exporter": "python",
   "pygments_lexer": "ipython3",
   "version": "3.6.0"
  }
 },
 "nbformat": 4,
 "nbformat_minor": 2
}
